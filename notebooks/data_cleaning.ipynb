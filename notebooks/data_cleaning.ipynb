{
 "cells": [
  {
   "cell_type": "markdown",
   "metadata": {},
   "source": [
    "# Putting together all the data frames and cleaning the data"
   ]
  },
  {
   "cell_type": "markdown",
   "metadata": {},
   "source": [
    "Import of libraries"
   ]
  },
  {
   "cell_type": "code",
   "execution_count": 1,
   "metadata": {},
   "outputs": [],
   "source": [
    "import pandas as pd\n",
    "import sys"
   ]
  },
  {
   "cell_type": "markdown",
   "metadata": {},
   "source": [
    "Importing .py doc to access the needed function"
   ]
  },
  {
   "cell_type": "code",
   "execution_count": 2,
   "metadata": {},
   "outputs": [],
   "source": [
    "# Printing all directories for interpreter to search \n",
    "\n",
    "sys.path.append('../')\n",
    "\n",
    "# Importing module\n",
    "\n",
    "from src.support import *"
   ]
  },
  {
   "cell_type": "markdown",
   "metadata": {},
   "source": [
    "Import of the data frames"
   ]
  },
  {
   "cell_type": "code",
   "execution_count": 3,
   "metadata": {},
   "outputs": [],
   "source": [
    "books1 = pd.read_csv('../data/books_information.csv')\n",
    "books2 = pd.read_csv('../data/books_information1.csv')\n",
    "books3 = pd.read_csv('../data/books_information2.csv')\n",
    "books4 = pd.read_csv('../data/books_information3.csv')"
   ]
  },
  {
   "cell_type": "code",
   "execution_count": 4,
   "metadata": {},
   "outputs": [
    {
     "data": {
      "text/html": [
       "<div>\n",
       "<style scoped>\n",
       "    .dataframe tbody tr th:only-of-type {\n",
       "        vertical-align: middle;\n",
       "    }\n",
       "\n",
       "    .dataframe tbody tr th {\n",
       "        vertical-align: top;\n",
       "    }\n",
       "\n",
       "    .dataframe thead th {\n",
       "        text-align: right;\n",
       "    }\n",
       "</style>\n",
       "<table border=\"1\" class=\"dataframe\">\n",
       "  <thead>\n",
       "    <tr style=\"text-align: right;\">\n",
       "      <th></th>\n",
       "      <th>Cover</th>\n",
       "      <th>Title</th>\n",
       "      <th>Author</th>\n",
       "      <th>Genre</th>\n",
       "      <th>Rating</th>\n",
       "      <th>Rating Count</th>\n",
       "      <th>Year</th>\n",
       "      <th>Pages</th>\n",
       "    </tr>\n",
       "  </thead>\n",
       "  <tbody>\n",
       "    <tr>\n",
       "      <th>0</th>\n",
       "      <td>https://images-na.ssl-images-amazon.com/images...</td>\n",
       "      <td>The Hunger Games</td>\n",
       "      <td>Suzanne Collins</td>\n",
       "      <td>Young , Adult, Fiction, Fantasy, Dystopia</td>\n",
       "      <td>4.33</td>\n",
       "      <td>8,272,162 ratings207,967 reviews</td>\n",
       "      <td>First published September 14, 2008</td>\n",
       "      <td>374 pages, Hardcover</td>\n",
       "    </tr>\n",
       "    <tr>\n",
       "      <th>1</th>\n",
       "      <td>https://images-na.ssl-images-amazon.com/images...</td>\n",
       "      <td>Harry Potter and the Order of the Phoenix</td>\n",
       "      <td>J.K. Rowling</td>\n",
       "      <td>Young , Adult, Fiction, Magic, Childrens</td>\n",
       "      <td>4.50</td>\n",
       "      <td>3,267,591 ratings60,535 reviews</td>\n",
       "      <td>First published June 21, 2003</td>\n",
       "      <td>912 pages, Paperback</td>\n",
       "    </tr>\n",
       "  </tbody>\n",
       "</table>\n",
       "</div>"
      ],
      "text/plain": [
       "                                               Cover  \\\n",
       "0  https://images-na.ssl-images-amazon.com/images...   \n",
       "1  https://images-na.ssl-images-amazon.com/images...   \n",
       "\n",
       "                                       Title           Author  \\\n",
       "0                           The Hunger Games  Suzanne Collins   \n",
       "1  Harry Potter and the Order of the Phoenix     J.K. Rowling   \n",
       "\n",
       "                                       Genre  Rating  \\\n",
       "0  Young , Adult, Fiction, Fantasy, Dystopia    4.33   \n",
       "1   Young , Adult, Fiction, Magic, Childrens    4.50   \n",
       "\n",
       "                       Rating Count                                Year  \\\n",
       "0  8,272,162 ratings207,967 reviews  First published September 14, 2008   \n",
       "1   3,267,591 ratings60,535 reviews       First published June 21, 2003   \n",
       "\n",
       "                  Pages  \n",
       "0  374 pages, Hardcover  \n",
       "1  912 pages, Paperback  "
      ]
     },
     "metadata": {},
     "output_type": "display_data"
    },
    {
     "data": {
      "text/html": [
       "<div>\n",
       "<style scoped>\n",
       "    .dataframe tbody tr th:only-of-type {\n",
       "        vertical-align: middle;\n",
       "    }\n",
       "\n",
       "    .dataframe tbody tr th {\n",
       "        vertical-align: top;\n",
       "    }\n",
       "\n",
       "    .dataframe thead th {\n",
       "        text-align: right;\n",
       "    }\n",
       "</style>\n",
       "<table border=\"1\" class=\"dataframe\">\n",
       "  <thead>\n",
       "    <tr style=\"text-align: right;\">\n",
       "      <th></th>\n",
       "      <th>Cover</th>\n",
       "      <th>Title</th>\n",
       "      <th>Author</th>\n",
       "      <th>Genre</th>\n",
       "      <th>Rating</th>\n",
       "      <th>Rating Count</th>\n",
       "      <th>Year</th>\n",
       "      <th>Pages</th>\n",
       "    </tr>\n",
       "  </thead>\n",
       "  <tbody>\n",
       "    <tr>\n",
       "      <th>0</th>\n",
       "      <td>https://images-na.ssl-images-amazon.com/images...</td>\n",
       "      <td>To Kill a Mockingbird</td>\n",
       "      <td>Harper Lee</td>\n",
       "      <td>Classics, Fiction, Historical , Fiction, School</td>\n",
       "      <td>4.26</td>\n",
       "      <td>5,889,033 ratings114,192 reviews</td>\n",
       "      <td>First published July 11, 1960</td>\n",
       "      <td>323 pages, Paperback</td>\n",
       "    </tr>\n",
       "    <tr>\n",
       "      <th>1</th>\n",
       "      <td>https://images-na.ssl-images-amazon.com/images...</td>\n",
       "      <td>Harry Potter and the Philosopher’s Stone</td>\n",
       "      <td>J.K. Rowling</td>\n",
       "      <td>Fiction, Young , Adult, Magic, Childrens</td>\n",
       "      <td>4.47</td>\n",
       "      <td>9,637,191 ratings155,419 reviews</td>\n",
       "      <td>First published June 26, 1997</td>\n",
       "      <td>223 pages, Paperback</td>\n",
       "    </tr>\n",
       "  </tbody>\n",
       "</table>\n",
       "</div>"
      ],
      "text/plain": [
       "                                               Cover  \\\n",
       "0  https://images-na.ssl-images-amazon.com/images...   \n",
       "1  https://images-na.ssl-images-amazon.com/images...   \n",
       "\n",
       "                                      Title        Author  \\\n",
       "0                     To Kill a Mockingbird    Harper Lee   \n",
       "1  Harry Potter and the Philosopher’s Stone  J.K. Rowling   \n",
       "\n",
       "                                             Genre  Rating  \\\n",
       "0  Classics, Fiction, Historical , Fiction, School    4.26   \n",
       "1         Fiction, Young , Adult, Magic, Childrens    4.47   \n",
       "\n",
       "                       Rating Count                           Year  \\\n",
       "0  5,889,033 ratings114,192 reviews  First published July 11, 1960   \n",
       "1  9,637,191 ratings155,419 reviews  First published June 26, 1997   \n",
       "\n",
       "                  Pages  \n",
       "0  323 pages, Paperback  \n",
       "1  223 pages, Paperback  "
      ]
     },
     "metadata": {},
     "output_type": "display_data"
    },
    {
     "data": {
      "text/html": [
       "<div>\n",
       "<style scoped>\n",
       "    .dataframe tbody tr th:only-of-type {\n",
       "        vertical-align: middle;\n",
       "    }\n",
       "\n",
       "    .dataframe tbody tr th {\n",
       "        vertical-align: top;\n",
       "    }\n",
       "\n",
       "    .dataframe thead th {\n",
       "        text-align: right;\n",
       "    }\n",
       "</style>\n",
       "<table border=\"1\" class=\"dataframe\">\n",
       "  <thead>\n",
       "    <tr style=\"text-align: right;\">\n",
       "      <th></th>\n",
       "      <th>Cover</th>\n",
       "      <th>Title</th>\n",
       "      <th>Author</th>\n",
       "      <th>Genre</th>\n",
       "      <th>Rating</th>\n",
       "      <th>Rating Count</th>\n",
       "      <th>Year</th>\n",
       "      <th>Pages</th>\n",
       "    </tr>\n",
       "  </thead>\n",
       "  <tbody>\n",
       "    <tr>\n",
       "      <th>0</th>\n",
       "      <td>https://images-na.ssl-images-amazon.com/images...</td>\n",
       "      <td>A Certain Slant of Light</td>\n",
       "      <td>Laura Whitcomb</td>\n",
       "      <td>Young , Adult, Fantasy, Paranormal, Romance</td>\n",
       "      <td>3.84</td>\n",
       "      <td>19,520 ratings1,986 reviews</td>\n",
       "      <td>First published September 21, 2005</td>\n",
       "      <td>282 pages, Paperback</td>\n",
       "    </tr>\n",
       "    <tr>\n",
       "      <th>1</th>\n",
       "      <td>https://images-na.ssl-images-amazon.com/images...</td>\n",
       "      <td>Nobody's Princess</td>\n",
       "      <td>Esther M. Friesner</td>\n",
       "      <td>Historical , Fiction, Young , Adult, Fantasy</td>\n",
       "      <td>3.69</td>\n",
       "      <td>13,268 ratings1,080 reviews</td>\n",
       "      <td>First published April 24, 2007</td>\n",
       "      <td>296 pages, Hardcover</td>\n",
       "    </tr>\n",
       "  </tbody>\n",
       "</table>\n",
       "</div>"
      ],
      "text/plain": [
       "                                               Cover  \\\n",
       "0  https://images-na.ssl-images-amazon.com/images...   \n",
       "1  https://images-na.ssl-images-amazon.com/images...   \n",
       "\n",
       "                      Title              Author  \\\n",
       "0  A Certain Slant of Light      Laura Whitcomb   \n",
       "1         Nobody's Princess  Esther M. Friesner   \n",
       "\n",
       "                                          Genre  Rating  \\\n",
       "0   Young , Adult, Fantasy, Paranormal, Romance    3.84   \n",
       "1  Historical , Fiction, Young , Adult, Fantasy    3.69   \n",
       "\n",
       "                  Rating Count                                Year  \\\n",
       "0  19,520 ratings1,986 reviews  First published September 21, 2005   \n",
       "1  13,268 ratings1,080 reviews      First published April 24, 2007   \n",
       "\n",
       "                  Pages  \n",
       "0  282 pages, Paperback  \n",
       "1  296 pages, Hardcover  "
      ]
     },
     "metadata": {},
     "output_type": "display_data"
    },
    {
     "data": {
      "text/html": [
       "<div>\n",
       "<style scoped>\n",
       "    .dataframe tbody tr th:only-of-type {\n",
       "        vertical-align: middle;\n",
       "    }\n",
       "\n",
       "    .dataframe tbody tr th {\n",
       "        vertical-align: top;\n",
       "    }\n",
       "\n",
       "    .dataframe thead th {\n",
       "        text-align: right;\n",
       "    }\n",
       "</style>\n",
       "<table border=\"1\" class=\"dataframe\">\n",
       "  <thead>\n",
       "    <tr style=\"text-align: right;\">\n",
       "      <th></th>\n",
       "      <th>Cover</th>\n",
       "      <th>Title</th>\n",
       "      <th>Author</th>\n",
       "      <th>Genre</th>\n",
       "      <th>Rating</th>\n",
       "      <th>Rating Count</th>\n",
       "      <th>Year</th>\n",
       "      <th>Pages</th>\n",
       "    </tr>\n",
       "  </thead>\n",
       "  <tbody>\n",
       "    <tr>\n",
       "      <th>0</th>\n",
       "      <td>https://images-na.ssl-images-amazon.com/images...</td>\n",
       "      <td>Daughter of Smoke &amp; Bone</td>\n",
       "      <td>Laini Taylor</td>\n",
       "      <td>Fantasy, Young , Adult, Romance, Paranormal</td>\n",
       "      <td>3.99</td>\n",
       "      <td>364,585 ratings33,599 reviews</td>\n",
       "      <td>First published September 27, 2011</td>\n",
       "      <td>418 pages, Hardcover</td>\n",
       "    </tr>\n",
       "    <tr>\n",
       "      <th>1</th>\n",
       "      <td>https://images-na.ssl-images-amazon.com/images...</td>\n",
       "      <td>Delirium</td>\n",
       "      <td>Lauren Oliver</td>\n",
       "      <td>Young , Adult, Dystopia, Romance, Fantasy</td>\n",
       "      <td>3.95</td>\n",
       "      <td>462,169 ratings28,389 reviews</td>\n",
       "      <td>First published February 3, 2011</td>\n",
       "      <td>441 pages, Paperback</td>\n",
       "    </tr>\n",
       "  </tbody>\n",
       "</table>\n",
       "</div>"
      ],
      "text/plain": [
       "                                               Cover  \\\n",
       "0  https://images-na.ssl-images-amazon.com/images...   \n",
       "1  https://images-na.ssl-images-amazon.com/images...   \n",
       "\n",
       "                      Title         Author  \\\n",
       "0  Daughter of Smoke & Bone   Laini Taylor   \n",
       "1                  Delirium  Lauren Oliver   \n",
       "\n",
       "                                         Genre  Rating  \\\n",
       "0  Fantasy, Young , Adult, Romance, Paranormal    3.99   \n",
       "1    Young , Adult, Dystopia, Romance, Fantasy    3.95   \n",
       "\n",
       "                    Rating Count                                Year  \\\n",
       "0  364,585 ratings33,599 reviews  First published September 27, 2011   \n",
       "1  462,169 ratings28,389 reviews    First published February 3, 2011   \n",
       "\n",
       "                  Pages  \n",
       "0  418 pages, Hardcover  \n",
       "1  441 pages, Paperback  "
      ]
     },
     "execution_count": 4,
     "metadata": {},
     "output_type": "execute_result"
    }
   ],
   "source": [
    "display(books1.head(2))\n",
    "display(books2.head(2))\n",
    "display(books3.head(2))\n",
    "books4.head(2)"
   ]
  },
  {
   "cell_type": "markdown",
   "metadata": {},
   "source": [
    "Putting them together"
   ]
  },
  {
   "cell_type": "code",
   "execution_count": 5,
   "metadata": {},
   "outputs": [
    {
     "data": {
      "text/html": [
       "<div>\n",
       "<style scoped>\n",
       "    .dataframe tbody tr th:only-of-type {\n",
       "        vertical-align: middle;\n",
       "    }\n",
       "\n",
       "    .dataframe tbody tr th {\n",
       "        vertical-align: top;\n",
       "    }\n",
       "\n",
       "    .dataframe thead th {\n",
       "        text-align: right;\n",
       "    }\n",
       "</style>\n",
       "<table border=\"1\" class=\"dataframe\">\n",
       "  <thead>\n",
       "    <tr style=\"text-align: right;\">\n",
       "      <th></th>\n",
       "      <th>Cover</th>\n",
       "      <th>Title</th>\n",
       "      <th>Author</th>\n",
       "      <th>Genre</th>\n",
       "      <th>Rating</th>\n",
       "      <th>Rating Count</th>\n",
       "      <th>Year</th>\n",
       "      <th>Pages</th>\n",
       "    </tr>\n",
       "  </thead>\n",
       "  <tbody>\n",
       "    <tr>\n",
       "      <th>0</th>\n",
       "      <td>https://images-na.ssl-images-amazon.com/images...</td>\n",
       "      <td>The Hunger Games</td>\n",
       "      <td>Suzanne Collins</td>\n",
       "      <td>Young , Adult, Fiction, Fantasy, Dystopia</td>\n",
       "      <td>4.33</td>\n",
       "      <td>8,272,162 ratings207,967 reviews</td>\n",
       "      <td>First published September 14, 2008</td>\n",
       "      <td>374 pages, Hardcover</td>\n",
       "    </tr>\n",
       "    <tr>\n",
       "      <th>1</th>\n",
       "      <td>https://images-na.ssl-images-amazon.com/images...</td>\n",
       "      <td>Harry Potter and the Order of the Phoenix</td>\n",
       "      <td>J.K. Rowling</td>\n",
       "      <td>Young , Adult, Fiction, Magic, Childrens</td>\n",
       "      <td>4.50</td>\n",
       "      <td>3,267,591 ratings60,535 reviews</td>\n",
       "      <td>First published June 21, 2003</td>\n",
       "      <td>912 pages, Paperback</td>\n",
       "    </tr>\n",
       "    <tr>\n",
       "      <th>2</th>\n",
       "      <td>https://images-na.ssl-images-amazon.com/images...</td>\n",
       "      <td>Pride and Prejudice</td>\n",
       "      <td>Jane Austen</td>\n",
       "      <td>Classics, Fiction, Romance, Historical , Fiction</td>\n",
       "      <td>4.28</td>\n",
       "      <td>4,103,863 ratings108,310 reviews</td>\n",
       "      <td>First published January 28, 1813</td>\n",
       "      <td>279 pages, Paperback</td>\n",
       "    </tr>\n",
       "    <tr>\n",
       "      <th>3</th>\n",
       "      <td>https://images-na.ssl-images-amazon.com/images...</td>\n",
       "      <td>To Kill a Mockingbird</td>\n",
       "      <td>Harper Lee</td>\n",
       "      <td>Classics, Fiction, Historical , Fiction, School</td>\n",
       "      <td>4.26</td>\n",
       "      <td>5,888,672 ratings114,187 reviews</td>\n",
       "      <td>First published July 11, 1960</td>\n",
       "      <td>323 pages, Paperback</td>\n",
       "    </tr>\n",
       "    <tr>\n",
       "      <th>4</th>\n",
       "      <td>https://images-na.ssl-images-amazon.com/images...</td>\n",
       "      <td>The Book Thief</td>\n",
       "      <td>Markus Zusak</td>\n",
       "      <td>Historical , Fiction, Fiction, Young , Adult</td>\n",
       "      <td>4.39</td>\n",
       "      <td>2,459,198 ratings140,987 reviews</td>\n",
       "      <td>First published March 1, 2005</td>\n",
       "      <td>592 pages, Hardcover</td>\n",
       "    </tr>\n",
       "  </tbody>\n",
       "</table>\n",
       "</div>"
      ],
      "text/plain": [
       "                                               Cover  \\\n",
       "0  https://images-na.ssl-images-amazon.com/images...   \n",
       "1  https://images-na.ssl-images-amazon.com/images...   \n",
       "2  https://images-na.ssl-images-amazon.com/images...   \n",
       "3  https://images-na.ssl-images-amazon.com/images...   \n",
       "4  https://images-na.ssl-images-amazon.com/images...   \n",
       "\n",
       "                                       Title           Author  \\\n",
       "0                           The Hunger Games  Suzanne Collins   \n",
       "1  Harry Potter and the Order of the Phoenix     J.K. Rowling   \n",
       "2                        Pride and Prejudice      Jane Austen   \n",
       "3                      To Kill a Mockingbird       Harper Lee   \n",
       "4                             The Book Thief     Markus Zusak   \n",
       "\n",
       "                                              Genre  Rating  \\\n",
       "0         Young , Adult, Fiction, Fantasy, Dystopia    4.33   \n",
       "1          Young , Adult, Fiction, Magic, Childrens    4.50   \n",
       "2  Classics, Fiction, Romance, Historical , Fiction    4.28   \n",
       "3   Classics, Fiction, Historical , Fiction, School    4.26   \n",
       "4      Historical , Fiction, Fiction, Young , Adult    4.39   \n",
       "\n",
       "                       Rating Count                                Year  \\\n",
       "0  8,272,162 ratings207,967 reviews  First published September 14, 2008   \n",
       "1   3,267,591 ratings60,535 reviews       First published June 21, 2003   \n",
       "2  4,103,863 ratings108,310 reviews    First published January 28, 1813   \n",
       "3  5,888,672 ratings114,187 reviews       First published July 11, 1960   \n",
       "4  2,459,198 ratings140,987 reviews       First published March 1, 2005   \n",
       "\n",
       "                  Pages  \n",
       "0  374 pages, Hardcover  \n",
       "1  912 pages, Paperback  \n",
       "2  279 pages, Paperback  \n",
       "3  323 pages, Paperback  \n",
       "4  592 pages, Hardcover  "
      ]
     },
     "execution_count": 5,
     "metadata": {},
     "output_type": "execute_result"
    }
   ],
   "source": [
    "books = pd.concat([books1, books2, books3, books4], axis = 0)\n",
    "books.head()"
   ]
  },
  {
   "cell_type": "markdown",
   "metadata": {},
   "source": [
    "Exploring the data"
   ]
  },
  {
   "cell_type": "code",
   "execution_count": 6,
   "metadata": {},
   "outputs": [],
   "source": [
    "# Drop duplicates\n",
    "\n",
    "books = books.drop_duplicates(subset = 'Title', keep = 'first')"
   ]
  },
  {
   "cell_type": "code",
   "execution_count": 7,
   "metadata": {},
   "outputs": [
    {
     "name": "stdout",
     "output_type": "stream",
     "text": [
      "<class 'pandas.core.frame.DataFrame'>\n",
      "Int64Index: 24736 entries, 0 to 9731\n",
      "Data columns (total 8 columns):\n",
      " #   Column        Non-Null Count  Dtype  \n",
      "---  ------        --------------  -----  \n",
      " 0   Cover         24736 non-null  object \n",
      " 1   Title         24736 non-null  object \n",
      " 2   Author        24736 non-null  object \n",
      " 3   Genre         22977 non-null  object \n",
      " 4   Rating        24736 non-null  float64\n",
      " 5   Rating Count  24736 non-null  object \n",
      " 6   Year          24736 non-null  object \n",
      " 7   Pages         24736 non-null  object \n",
      "dtypes: float64(1), object(7)\n",
      "memory usage: 1.7+ MB\n"
     ]
    }
   ],
   "source": [
    "books.info()"
   ]
  },
  {
   "cell_type": "code",
   "execution_count": 8,
   "metadata": {},
   "outputs": [
    {
     "data": {
      "text/plain": [
       "1759"
      ]
     },
     "execution_count": 8,
     "metadata": {},
     "output_type": "execute_result"
    }
   ],
   "source": [
    "books['Genre'].isnull().sum()"
   ]
  },
  {
   "cell_type": "markdown",
   "metadata": {},
   "source": [
    "Although the 'Genre' column has 1759 Nan values, I'm not gonna delete those rows because you can still filter out those books through other parameters"
   ]
  },
  {
   "cell_type": "markdown",
   "metadata": {},
   "source": [
    "## Columns' data cleaning"
   ]
  },
  {
   "cell_type": "markdown",
   "metadata": {},
   "source": [
    "'Title'"
   ]
  },
  {
   "cell_type": "code",
   "execution_count": 9,
   "metadata": {},
   "outputs": [],
   "source": [
    "books['Title'] = books['Title'].apply(lambda x: str(x) if not x.isdigit() else f'\"{x}\"')"
   ]
  },
  {
   "cell_type": "markdown",
   "metadata": {},
   "source": [
    "'Genre'"
   ]
  },
  {
   "cell_type": "code",
   "execution_count": 10,
   "metadata": {},
   "outputs": [
    {
     "data": {
      "text/plain": [
       "0           Young , Adult, Fiction, Fantasy, Dystopia\n",
       "1            Young , Adult, Fiction, Magic, Childrens\n",
       "2    Classics, Fiction, Romance, Historical , Fiction\n",
       "3     Classics, Fiction, Historical , Fiction, School\n",
       "4        Historical , Fiction, Fiction, Young , Adult\n",
       "Name: Genre, dtype: object"
      ]
     },
     "execution_count": 10,
     "metadata": {},
     "output_type": "execute_result"
    }
   ],
   "source": [
    "# Overview of the data\n",
    "\n",
    "books['Genre'].head()"
   ]
  },
  {
   "cell_type": "code",
   "execution_count": 11,
   "metadata": {},
   "outputs": [],
   "source": [
    "# Filling Nan values with 'Unknown'\n",
    "\n",
    "books['Genre'] = books['Genre'].fillna('Unknown')"
   ]
  },
  {
   "cell_type": "code",
   "execution_count": 12,
   "metadata": {},
   "outputs": [],
   "source": [
    "# Deleting spaces between the end of a word and its following comma\n",
    "\n",
    "books['Genre'] = books['Genre'].str.replace(' ,', ',')"
   ]
  },
  {
   "cell_type": "code",
   "execution_count": 13,
   "metadata": {},
   "outputs": [],
   "source": [
    "# Deleting the word 'Genre(s)' from the 'Genre' column\n",
    "\n",
    "books['Genre'] = books['Genre'].str.replace('Genre(s)?', '', regex = True)"
   ]
  },
  {
   "cell_type": "code",
   "execution_count": 14,
   "metadata": {},
   "outputs": [],
   "source": [
    "# Deleting duplicate values per row in 'Genre' column calling the function 'delete_duplicates'\n",
    "\n",
    "books['Genre'] = books['Genre'].apply(remove_duplicates)"
   ]
  },
  {
   "cell_type": "code",
   "execution_count": 15,
   "metadata": {},
   "outputs": [],
   "source": [
    "# Applying the function to the 'Genre' column\n",
    "\n",
    "books['Genre'] = books['Genre'].apply(common_genres_cleaning)"
   ]
  },
  {
   "cell_type": "code",
   "execution_count": 16,
   "metadata": {},
   "outputs": [],
   "source": [
    "# Changing the data type of the 'Genre' column to string\n",
    "\n",
    "books['Genre'] = books['Genre'].apply(lambda x: ', '.join(x))"
   ]
  },
  {
   "cell_type": "code",
   "execution_count": 17,
   "metadata": {},
   "outputs": [],
   "source": [
    "# Converting the 'Genre' column to a list and splitting it by commas\n",
    "\n",
    "books['Genre'] = books['Genre'].str.split(',')\n",
    "\n",
    "# Applying the function 'create_genre_dict' to the 'Genre' column to create a dictionary\n",
    "\n",
    "books['Genre'] = books['Genre'].apply(create_genre_dict)"
   ]
  },
  {
   "cell_type": "code",
   "execution_count": 18,
   "metadata": {},
   "outputs": [
    {
     "data": {
      "text/plain": [
       "0       {'genre_1': 'Young', 'genre_2': 'Adult', 'genr...\n",
       "1       {'genre_1': 'Young', 'genre_2': 'Adult', 'genr...\n",
       "2       {'genre_1': 'Classics', 'genre_2': 'Fiction', ...\n",
       "3       {'genre_1': 'Classics', 'genre_2': 'Fiction', ...\n",
       "4       {'genre_1': 'Historical', 'genre_2': 'Fiction'...\n",
       "                              ...                        \n",
       "9722    {'genre_1': 'Mystery', 'genre_2': 'Fiction', '...\n",
       "9723                               {'genre_1': 'Unknown'}\n",
       "9724    {'genre_1': 'Fantasy', 'genre_2': 'Science', '...\n",
       "9728    {'genre_1': 'Science', 'genre_2': 'Fiction', '...\n",
       "9731    {'genre_1': 'Science', 'genre_2': 'Fiction', '...\n",
       "Name: Genre, Length: 24736, dtype: object"
      ]
     },
     "execution_count": 18,
     "metadata": {},
     "output_type": "execute_result"
    }
   ],
   "source": [
    "# Checking the result\n",
    "\n",
    "books['Genre']"
   ]
  },
  {
   "cell_type": "markdown",
   "metadata": {},
   "source": [
    "'Rating'"
   ]
  },
  {
   "cell_type": "code",
   "execution_count": 19,
   "metadata": {},
   "outputs": [
    {
     "data": {
      "text/plain": [
       "array([4.33, 4.5 , 4.28, 4.26, 4.39, 3.65, 3.98, 4.61, 4.27, 4.14, 4.12,\n",
       "       4.31, 4.38, 3.89, 4.23, 4.15, 4.47, 3.93, 4.3 , 4.32, 3.91, 4.06,\n",
       "       4.2 , 3.69, 3.74, 4.07, 4.01, 3.88, 3.9 , 3.8 , 3.97, 3.99, 4.11,\n",
       "       4.43, 4.44, 4.19, 4.34, 3.86, 4.62, 3.85, 3.83, 4.24, 4.13, 3.87,\n",
       "       4.09, 4.58, 4.05, 4.35, 4.08, 3.79, 4.16, 4.1 , 4.36, 4.29, 4.  ,\n",
       "       4.02, 4.25, 4.56, 3.54, 4.52, 4.03, 3.94, 3.92, 3.61, 3.43, 4.18,\n",
       "       4.04, 4.84, 4.49, 4.45, 4.42, 4.37, 3.62, 3.95, 3.82, 4.17, 3.7 ,\n",
       "       3.84, 4.59, 3.75, 4.54, 3.66, 4.64, 4.21, 3.52, 4.22, 4.4 , 3.96,\n",
       "       3.72, 3.6 , 4.41, 3.76, 3.81, 4.8 , 4.6 , 4.66, 4.55, 4.48, 3.78,\n",
       "       3.68, 4.57, 3.73, 3.48, 3.58, 4.74, 3.63, 3.77, 3.59, 3.31, 4.46,\n",
       "       3.57, 4.51, 4.65, 3.5 , 4.76, 4.53, 3.64, 3.46, 3.71, 3.44, 3.39,\n",
       "       3.51, 3.67, 4.71, 4.72, 3.29, 3.3 , 3.53, 3.56, 3.45, 3.2 , 4.7 ,\n",
       "       4.73, 4.69, 3.55, 4.63, 3.47, 3.36, 3.09, 4.78, 3.42, 3.22, 3.11,\n",
       "       3.49, 3.18, 3.26, 3.23, 3.19, 3.1 , 3.21, 3.38, 3.32, 3.4 , 4.75,\n",
       "       4.67, 3.25, 3.27, 4.89, 4.92, 3.03, 4.68, 2.03, 3.24, 2.9 , 3.35,\n",
       "       4.77, 3.04, 4.81, 4.9 , 4.93, 3.41, 2.01, 4.85, 2.97, 3.28, 3.37,\n",
       "       3.17, 3.08, 4.82, 5.  , 2.99, 2.75, 3.33, 2.83, 3.34, 3.14, 4.83,\n",
       "       2.94, 4.96, 4.88, 4.95, 3.01, 1.65, 4.97, 2.52, 2.67, 4.79, 3.13,\n",
       "       2.42, 3.02, 3.  , 2.87, 2.92, 2.79, 2.91, 2.93, 2.98, 4.94, 3.12,\n",
       "       2.6 , 3.06, 2.71, 4.86, 3.16, 2.81, 2.78, 3.05, 2.89, 0.  , 3.15,\n",
       "       1.8 , 4.91, 4.87, 2.7 , 3.07, 2.8 , 2.88, 2.85, 2.68, 1.4 , 2.29,\n",
       "       2.15, 2.33, 2.09, 2.32, 2.51, 2.96, 2.  ])"
      ]
     },
     "execution_count": 19,
     "metadata": {},
     "output_type": "execute_result"
    }
   ],
   "source": [
    "# Checking for unique values in the column 'Rating'\n",
    "\n",
    "books['Rating'].unique()"
   ]
  },
  {
   "cell_type": "code",
   "execution_count": 20,
   "metadata": {},
   "outputs": [],
   "source": [
    "# Deleting spaces in the 'Rating' column changing the data type to string and back to float\n",
    "\n",
    "books['Rating'] = books['Rating'].astype(str).str.strip().astype(float)"
   ]
  },
  {
   "cell_type": "markdown",
   "metadata": {},
   "source": [
    "'Rating Count'"
   ]
  },
  {
   "cell_type": "code",
   "execution_count": 21,
   "metadata": {},
   "outputs": [],
   "source": [
    "# Splitting 'Rating Count' column into 'Ratings count' and 'Reviews Count' columns and deleting the original column\n",
    "\n",
    "books[['Ratings Count', 'Reviews Count']] = books['Rating Count'].str.split('ratings', expand = True)\n",
    "books = books.drop('Rating Count', axis = 1)"
   ]
  },
  {
   "cell_type": "code",
   "execution_count": 22,
   "metadata": {},
   "outputs": [],
   "source": [
    "# Deleting 'review(s)' word from 'Reviews Count' column\n",
    "\n",
    "books['Reviews Count'] = books['Reviews Count'].str.split('reviews', expand = True)[0]\n",
    "books['Reviews Count'] = books['Reviews Count'].str.split('review', expand = True)[0]    "
   ]
  },
  {
   "cell_type": "code",
   "execution_count": 23,
   "metadata": {},
   "outputs": [
    {
     "name": "stdout",
     "output_type": "stream",
     "text": [
      "0\n"
     ]
    },
    {
     "data": {
      "text/plain": [
       "52"
      ]
     },
     "execution_count": 23,
     "metadata": {},
     "output_type": "execute_result"
    }
   ],
   "source": [
    "# Checking the data types of the new columns\n",
    "\n",
    "print(books['Ratings Count'].isnull().sum())\n",
    "books['Reviews Count'].isnull().sum()"
   ]
  },
  {
   "cell_type": "code",
   "execution_count": 24,
   "metadata": {},
   "outputs": [],
   "source": [
    "# Turning the columns into string type\n",
    "\n",
    "books['Ratings Count'] = books['Ratings Count'].astype(str)\n",
    "books['Reviews Count'] = books['Reviews Count'].astype(str)"
   ]
  },
  {
   "cell_type": "code",
   "execution_count": 25,
   "metadata": {},
   "outputs": [],
   "source": [
    "# Replacing ',' and '\\xa0' with '' and extracting the numbers from the columns\n",
    "\n",
    "books['Ratings Count'] = books['Ratings Count'].str.replace(',', '').str.replace('\\xa0', '').str.extract('(\\d+)').astype(float).astype(int)\n",
    "books['Reviews Count'] = books['Reviews Count'].str.replace(',', '').str.replace('\\xa0', '').str.extract('(\\d+)').astype(float).fillna(0).astype(int)"
   ]
  },
  {
   "cell_type": "code",
   "execution_count": 26,
   "metadata": {},
   "outputs": [],
   "source": [
    "# Deleting spaces in the 'Ratings Count' column changing the data type to string and back to float\n",
    "\n",
    "books['Ratings Count'] = books['Ratings Count'].astype(str).str.strip().astype(int)"
   ]
  },
  {
   "cell_type": "code",
   "execution_count": 27,
   "metadata": {},
   "outputs": [],
   "source": [
    "# Deleting spaces in the 'Reviews Count' column changing the data type to string and back to float\n",
    "\n",
    "books['Reviews Count'] = books['Reviews Count'].astype(str).str.strip().astype(int)"
   ]
  },
  {
   "cell_type": "code",
   "execution_count": 28,
   "metadata": {},
   "outputs": [
    {
     "name": "stdout",
     "output_type": "stream",
     "text": [
      "<class 'pandas.core.frame.DataFrame'>\n",
      "Int64Index: 24736 entries, 0 to 9731\n",
      "Data columns (total 9 columns):\n",
      " #   Column         Non-Null Count  Dtype  \n",
      "---  ------         --------------  -----  \n",
      " 0   Cover          24736 non-null  object \n",
      " 1   Title          24736 non-null  object \n",
      " 2   Author         24736 non-null  object \n",
      " 3   Genre          24736 non-null  object \n",
      " 4   Rating         24736 non-null  float64\n",
      " 5   Year           24736 non-null  object \n",
      " 6   Pages          24736 non-null  object \n",
      " 7   Ratings Count  24736 non-null  int64  \n",
      " 8   Reviews Count  24736 non-null  int64  \n",
      "dtypes: float64(1), int64(2), object(6)\n",
      "memory usage: 1.9+ MB\n"
     ]
    }
   ],
   "source": [
    "# Checking the data types of the new columns\n",
    "\n",
    "books.info()"
   ]
  },
  {
   "cell_type": "markdown",
   "metadata": {},
   "source": [
    "'Year'"
   ]
  },
  {
   "cell_type": "code",
   "execution_count": 29,
   "metadata": {},
   "outputs": [],
   "source": [
    "# Deleting 'First publised '  and 'Published ' from all the rows in 'Year' column\n",
    "\n",
    "books['Year'] = books['Year'].str.replace('First published ', '')\n",
    "books['Year'] = books['Year'].str.replace('Published ', '')"
   ]
  },
  {
   "cell_type": "code",
   "execution_count": 30,
   "metadata": {},
   "outputs": [],
   "source": [
    "# Deleting the out of range years from the 'Year' column \n",
    "\n",
    "books['Year'] = pd.to_datetime(books['Year'], format = '%B %d, %Y', errors = 'coerce')\n",
    "books = books[books['Year'].notnull()]"
   ]
  },
  {
   "cell_type": "code",
   "execution_count": 31,
   "metadata": {},
   "outputs": [],
   "source": [
    "# Deleting spaces in the 'Year' column changing the data type to string\n",
    "books['Year'] = books['Year'].astype(str).str.strip()"
   ]
  },
  {
   "cell_type": "code",
   "execution_count": 32,
   "metadata": {},
   "outputs": [],
   "source": [
    "# Changing the data type to datetime\n",
    "\n",
    "books['Year'] = pd.to_datetime(books['Year'], format = '%Y-%m-%d')"
   ]
  },
  {
   "cell_type": "code",
   "execution_count": 33,
   "metadata": {},
   "outputs": [
    {
     "name": "stdout",
     "output_type": "stream",
     "text": [
      "<class 'pandas.core.series.Series'>\n",
      "Int64Index: 24543 entries, 0 to 9731\n",
      "Series name: Year\n",
      "Non-Null Count  Dtype         \n",
      "--------------  -----         \n",
      "24543 non-null  datetime64[ns]\n",
      "dtypes: datetime64[ns](1)\n",
      "memory usage: 383.5 KB\n"
     ]
    }
   ],
   "source": [
    "# Checking the data types of the 'Year' column\n",
    "\n",
    "books['Year'].info()"
   ]
  },
  {
   "cell_type": "markdown",
   "metadata": {},
   "source": [
    "'Pages'"
   ]
  },
  {
   "cell_type": "code",
   "execution_count": 34,
   "metadata": {},
   "outputs": [],
   "source": [
    "# Extracting the numbers from 'Pages' column\n",
    "\n",
    "pages_extracted = books['Pages'].str.extract('(\\d+)')"
   ]
  },
  {
   "cell_type": "code",
   "execution_count": 35,
   "metadata": {},
   "outputs": [],
   "source": [
    "# Filling the NaN values with 0\n",
    "\n",
    "pages_extracted = pages_extracted.fillna(0)"
   ]
  },
  {
   "cell_type": "code",
   "execution_count": 36,
   "metadata": {},
   "outputs": [],
   "source": [
    "# Changing the data type of 'Pages' column to int\n",
    "\n",
    "books['Pages'] = pages_extracted.astype(int)"
   ]
  },
  {
   "cell_type": "code",
   "execution_count": 37,
   "metadata": {},
   "outputs": [
    {
     "name": "stdout",
     "output_type": "stream",
     "text": [
      "<class 'pandas.core.series.Series'>\n",
      "Int64Index: 24543 entries, 0 to 9731\n",
      "Series name: Pages\n",
      "Non-Null Count  Dtype\n",
      "--------------  -----\n",
      "24543 non-null  int64\n",
      "dtypes: int64(1)\n",
      "memory usage: 383.5 KB\n"
     ]
    }
   ],
   "source": [
    "# Checking the data types of the 'Pages' column\n",
    "\n",
    "books['Pages'].info()"
   ]
  },
  {
   "cell_type": "markdown",
   "metadata": {},
   "source": [
    "Final touches"
   ]
  },
  {
   "cell_type": "code",
   "execution_count": 38,
   "metadata": {},
   "outputs": [],
   "source": [
    "# Changing names of the columns\n",
    "\n",
    "books = books.rename(columns = {'Cover': 'cover'})\n",
    "\n",
    "books = books.rename(columns = {'Title': 'title'})\n",
    "\n",
    "books = books.rename(columns = {'Author': 'author'})\n",
    "\n",
    "books = books.rename(columns = {'Genre': 'genre'})\n",
    "\n",
    "books = books.rename(columns = {'Rating': 'rating'})\n",
    "\n",
    "books = books.rename(columns = {'Ratings Count': 'rating_count'})\n",
    "\n",
    "books = books.rename(columns = {'Reviews Count': 'review_count'})\n",
    "\n",
    "books = books.rename(columns = {'Year': 'publication_date'})\n",
    "\n",
    "books = books.rename(columns = {'Pages': 'num_page'})"
   ]
  },
  {
   "cell_type": "code",
   "execution_count": 39,
   "metadata": {},
   "outputs": [],
   "source": [
    "# Organizing the columns\n",
    "\n",
    "books = books.reindex(columns = ['cover', 'title', 'author', 'genre', 'rating', 'rating_count', 'review_count', 'publication_date', 'num_page'])"
   ]
  },
  {
   "cell_type": "code",
   "execution_count": 40,
   "metadata": {},
   "outputs": [
    {
     "data": {
      "text/html": [
       "<div>\n",
       "<style scoped>\n",
       "    .dataframe tbody tr th:only-of-type {\n",
       "        vertical-align: middle;\n",
       "    }\n",
       "\n",
       "    .dataframe tbody tr th {\n",
       "        vertical-align: top;\n",
       "    }\n",
       "\n",
       "    .dataframe thead th {\n",
       "        text-align: right;\n",
       "    }\n",
       "</style>\n",
       "<table border=\"1\" class=\"dataframe\">\n",
       "  <thead>\n",
       "    <tr style=\"text-align: right;\">\n",
       "      <th></th>\n",
       "      <th>cover</th>\n",
       "      <th>title</th>\n",
       "      <th>author</th>\n",
       "      <th>genre</th>\n",
       "      <th>rating</th>\n",
       "      <th>rating_count</th>\n",
       "      <th>review_count</th>\n",
       "      <th>publication_date</th>\n",
       "      <th>num_page</th>\n",
       "    </tr>\n",
       "  </thead>\n",
       "  <tbody>\n",
       "    <tr>\n",
       "      <th>0</th>\n",
       "      <td>https://images-na.ssl-images-amazon.com/images...</td>\n",
       "      <td>The Hunger Games</td>\n",
       "      <td>Suzanne Collins</td>\n",
       "      <td>{'genre_1': 'Young', 'genre_2': 'Adult', 'genr...</td>\n",
       "      <td>4.33</td>\n",
       "      <td>8272162</td>\n",
       "      <td>207967</td>\n",
       "      <td>2008-09-14</td>\n",
       "      <td>374</td>\n",
       "    </tr>\n",
       "    <tr>\n",
       "      <th>1</th>\n",
       "      <td>https://images-na.ssl-images-amazon.com/images...</td>\n",
       "      <td>Harry Potter and the Order of the Phoenix</td>\n",
       "      <td>J.K. Rowling</td>\n",
       "      <td>{'genre_1': 'Young', 'genre_2': 'Adult', 'genr...</td>\n",
       "      <td>4.50</td>\n",
       "      <td>3267591</td>\n",
       "      <td>60535</td>\n",
       "      <td>2003-06-21</td>\n",
       "      <td>912</td>\n",
       "    </tr>\n",
       "    <tr>\n",
       "      <th>2</th>\n",
       "      <td>https://images-na.ssl-images-amazon.com/images...</td>\n",
       "      <td>Pride and Prejudice</td>\n",
       "      <td>Jane Austen</td>\n",
       "      <td>{'genre_1': 'Classics', 'genre_2': 'Fiction', ...</td>\n",
       "      <td>4.28</td>\n",
       "      <td>4103863</td>\n",
       "      <td>108310</td>\n",
       "      <td>1813-01-28</td>\n",
       "      <td>279</td>\n",
       "    </tr>\n",
       "    <tr>\n",
       "      <th>3</th>\n",
       "      <td>https://images-na.ssl-images-amazon.com/images...</td>\n",
       "      <td>To Kill a Mockingbird</td>\n",
       "      <td>Harper Lee</td>\n",
       "      <td>{'genre_1': 'Classics', 'genre_2': 'Fiction', ...</td>\n",
       "      <td>4.26</td>\n",
       "      <td>5888672</td>\n",
       "      <td>114187</td>\n",
       "      <td>1960-07-11</td>\n",
       "      <td>323</td>\n",
       "    </tr>\n",
       "    <tr>\n",
       "      <th>4</th>\n",
       "      <td>https://images-na.ssl-images-amazon.com/images...</td>\n",
       "      <td>The Book Thief</td>\n",
       "      <td>Markus Zusak</td>\n",
       "      <td>{'genre_1': 'Historical', 'genre_2': 'Fiction'...</td>\n",
       "      <td>4.39</td>\n",
       "      <td>2459198</td>\n",
       "      <td>140987</td>\n",
       "      <td>2005-03-01</td>\n",
       "      <td>592</td>\n",
       "    </tr>\n",
       "  </tbody>\n",
       "</table>\n",
       "</div>"
      ],
      "text/plain": [
       "                                               cover  \\\n",
       "0  https://images-na.ssl-images-amazon.com/images...   \n",
       "1  https://images-na.ssl-images-amazon.com/images...   \n",
       "2  https://images-na.ssl-images-amazon.com/images...   \n",
       "3  https://images-na.ssl-images-amazon.com/images...   \n",
       "4  https://images-na.ssl-images-amazon.com/images...   \n",
       "\n",
       "                                       title           author  \\\n",
       "0                           The Hunger Games  Suzanne Collins   \n",
       "1  Harry Potter and the Order of the Phoenix     J.K. Rowling   \n",
       "2                        Pride and Prejudice      Jane Austen   \n",
       "3                      To Kill a Mockingbird       Harper Lee   \n",
       "4                             The Book Thief     Markus Zusak   \n",
       "\n",
       "                                               genre  rating  rating_count  \\\n",
       "0  {'genre_1': 'Young', 'genre_2': 'Adult', 'genr...    4.33       8272162   \n",
       "1  {'genre_1': 'Young', 'genre_2': 'Adult', 'genr...    4.50       3267591   \n",
       "2  {'genre_1': 'Classics', 'genre_2': 'Fiction', ...    4.28       4103863   \n",
       "3  {'genre_1': 'Classics', 'genre_2': 'Fiction', ...    4.26       5888672   \n",
       "4  {'genre_1': 'Historical', 'genre_2': 'Fiction'...    4.39       2459198   \n",
       "\n",
       "   review_count publication_date  num_page  \n",
       "0        207967       2008-09-14       374  \n",
       "1         60535       2003-06-21       912  \n",
       "2        108310       1813-01-28       279  \n",
       "3        114187       1960-07-11       323  \n",
       "4        140987       2005-03-01       592  "
      ]
     },
     "execution_count": 40,
     "metadata": {},
     "output_type": "execute_result"
    }
   ],
   "source": [
    "# Final check\n",
    "\n",
    "books.head()"
   ]
  },
  {
   "cell_type": "code",
   "execution_count": 41,
   "metadata": {},
   "outputs": [
    {
     "name": "stdout",
     "output_type": "stream",
     "text": [
      "<class 'pandas.core.frame.DataFrame'>\n",
      "Int64Index: 24543 entries, 0 to 9731\n",
      "Data columns (total 9 columns):\n",
      " #   Column            Non-Null Count  Dtype         \n",
      "---  ------            --------------  -----         \n",
      " 0   cover             24543 non-null  object        \n",
      " 1   title             24543 non-null  object        \n",
      " 2   author            24543 non-null  object        \n",
      " 3   genre             24543 non-null  object        \n",
      " 4   rating            24543 non-null  float64       \n",
      " 5   rating_count      24543 non-null  int64         \n",
      " 6   review_count      24543 non-null  int64         \n",
      " 7   publication_date  24543 non-null  datetime64[ns]\n",
      " 8   num_page          24543 non-null  int64         \n",
      "dtypes: datetime64[ns](1), float64(1), int64(3), object(4)\n",
      "memory usage: 1.9+ MB\n"
     ]
    }
   ],
   "source": [
    "# Info check\n",
    "\n",
    "books.info()"
   ]
  },
  {
   "cell_type": "code",
   "execution_count": 42,
   "metadata": {},
   "outputs": [],
   "source": [
    "# Saving the data\n",
    "\n",
    "books.to_csv('../data/books_cleaned.csv', index = False)"
   ]
  }
 ],
 "metadata": {
  "kernelspec": {
   "display_name": "base",
   "language": "python",
   "name": "python3"
  },
  "language_info": {
   "codemirror_mode": {
    "name": "ipython",
    "version": 3
   },
   "file_extension": ".py",
   "mimetype": "text/x-python",
   "name": "python",
   "nbconvert_exporter": "python",
   "pygments_lexer": "ipython3",
   "version": "3.11.4"
  }
 },
 "nbformat": 4,
 "nbformat_minor": 2
}
