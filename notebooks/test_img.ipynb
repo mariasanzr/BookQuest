{
 "cells": [
  {
   "cell_type": "code",
   "execution_count": null,
   "metadata": {},
   "outputs": [],
   "source": [
    "import pandas as pd\n",
    "from IPython.display import Image, display\n",
    "\n",
    "# Crear un DataFrame con una columna que contiene URLs de imágenes\n",
    "data = {'Nombre': ['Imagen 1', 'Imagen 2'],\n",
    "        'URL': ['https://images-na.ssl-images-amazon.com/images/S/compressed.photo.goodreads.com/books/1586722975i/2767052.jpg', 'https://ejemplo.com/imagen2.png']}\n",
    "df = pd.DataFrame(data)\n",
    "\n",
    "# Función para mostrar imágenes en las celdas del DataFrame\n",
    "def mostrar_imagen(url):\n",
    "    display(Image(url=url))\n",
    "\n",
    "# Aplicar la función 'mostrar_imagen' a la columna 'URL' del DataFrame\n",
    "df['URL'].apply(mostrar_imagen)\n"
   ]
  }
 ],
 "metadata": {
  "language_info": {
   "name": "python"
  }
 },
 "nbformat": 4,
 "nbformat_minor": 2
}
