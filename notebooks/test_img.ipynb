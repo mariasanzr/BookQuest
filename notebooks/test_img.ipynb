{
 "cells": [
  {
   "cell_type": "code",
   "execution_count": 17,
   "metadata": {},
   "outputs": [
    {
     "data": {
      "text/html": [
       "<h3>HUNGER GAMES<br>Suzanne Collins</h3><img src='https://images-na.ssl-images-amazon.com/images/S/compressed.photo.goodreads.com/books/1586722975i/2767052.jpg' width='100' height='100'>"
      ],
      "text/plain": [
       "<IPython.core.display.HTML object>"
      ]
     },
     "metadata": {},
     "output_type": "display_data"
    },
    {
     "data": {
      "text/html": [
       "<h3>HARRY POTTER 2<br>J.K. Rowling</h3><img src='https://images-na.ssl-images-amazon.com/images/S/compressed.photo.goodreads.com/books/1546910265i/2.jpg' width='100' height='100'>"
      ],
      "text/plain": [
       "<IPython.core.display.HTML object>"
      ]
     },
     "metadata": {},
     "output_type": "display_data"
    }
   ],
   "source": [
    "import pandas as pd\n",
    "from IPython.display import display, HTML, Image\n",
    "\n",
    "# Crear un DataFrame con una columna que contiene URLs de imágenes\n",
    "data = {'Nombre': ['Hunger Games', 'Harry Potter 2'],\n",
    "        'Autor': ['Suzanne Collins', 'J.K. Rowling'],\n",
    "        'URL': ['https://images-na.ssl-images-amazon.com/images/S/compressed.photo.goodreads.com/books/1586722975i/2767052.jpg', \n",
    "                'https://images-na.ssl-images-amazon.com/images/S/compressed.photo.goodreads.com/books/1546910265i/2.jpg']}\n",
    "df = pd.DataFrame(data)\n",
    "\n",
    "# Función para mostrar solo el nombre de la imagen seguido de la imagen\n",
    "def mostrar_nombre_con_imagen(df_row):\n",
    "    nombre_imagen = df_row['Nombre'].upper()\n",
    "    autor = df_row['Autor']\n",
    "    imagen_url = df_row['URL']\n",
    "\n",
    "    html_output = f\"<h3>{nombre_imagen}<br>{autor}</h3>\"\n",
    "    html_output += f\"<img src='{imagen_url}' width='100' height='100'>\"\n",
    "\n",
    "    display(HTML(html_output))\n",
    "\n",
    "# Itera sobre las filas del DataFrame y muestra el nombre con su imagen\n",
    "for index, row in df.iterrows():\n",
    "    mostrar_nombre_con_imagen(row)"
   ]
  },
  {
   "cell_type": "code",
   "execution_count": 2,
   "metadata": {},
   "outputs": [
    {
     "data": {
      "text/html": [
       "<div>\n",
       "<style scoped>\n",
       "    .dataframe tbody tr th:only-of-type {\n",
       "        vertical-align: middle;\n",
       "    }\n",
       "\n",
       "    .dataframe tbody tr th {\n",
       "        vertical-align: top;\n",
       "    }\n",
       "\n",
       "    .dataframe thead th {\n",
       "        text-align: right;\n",
       "    }\n",
       "</style>\n",
       "<table border=\"1\" class=\"dataframe\">\n",
       "  <thead>\n",
       "    <tr style=\"text-align: right;\">\n",
       "      <th></th>\n",
       "      <th>Nombre</th>\n",
       "      <th>URL</th>\n",
       "    </tr>\n",
       "  </thead>\n",
       "  <tbody>\n",
       "    <tr>\n",
       "      <th>0</th>\n",
       "      <td>Imagen 1</td>\n",
       "      <td>https://images-na.ssl-images-amazon.com/images...</td>\n",
       "    </tr>\n",
       "    <tr>\n",
       "      <th>1</th>\n",
       "      <td>Imagen 2</td>\n",
       "      <td>https://images-na.ssl-images-amazon.com/images...</td>\n",
       "    </tr>\n",
       "  </tbody>\n",
       "</table>\n",
       "</div>"
      ],
      "text/plain": [
       "     Nombre                                                URL\n",
       "0  Imagen 1  https://images-na.ssl-images-amazon.com/images...\n",
       "1  Imagen 2  https://images-na.ssl-images-amazon.com/images..."
      ]
     },
     "execution_count": 2,
     "metadata": {},
     "output_type": "execute_result"
    }
   ],
   "source": [
    "df"
   ]
  },
  {
   "cell_type": "code",
   "execution_count": 5,
   "metadata": {},
   "outputs": [
    {
     "ename": "AttributeError",
     "evalue": "'str' object has no attribute 'apply'",
     "output_type": "error",
     "traceback": [
      "\u001b[0;31m---------------------------------------------------------------------------\u001b[0m",
      "\u001b[0;31mAttributeError\u001b[0m                            Traceback (most recent call last)",
      "\u001b[1;32m/Users/mariasanz/Desktop/Ironhack/final_project/notebooks/test_img.ipynb Cell 3\u001b[0m line \u001b[0;36m1\n\u001b[0;32m----> <a href='vscode-notebook-cell:/Users/mariasanz/Desktop/Ironhack/final_project/notebooks/test_img.ipynb#W2sZmlsZQ%3D%3D?line=0'>1</a>\u001b[0m df\u001b[39m.\u001b[39mURL[\u001b[39m0\u001b[39m]\u001b[39m.\u001b[39mapply(mostrar_imagen)\n",
      "\u001b[0;31mAttributeError\u001b[0m: 'str' object has no attribute 'apply'"
     ]
    }
   ],
   "source": [
    "df.URL[0].apply(mostrar_imagen)"
   ]
  },
  {
   "cell_type": "code",
   "execution_count": null,
   "metadata": {},
   "outputs": [],
   "source": [
    "# Aplicar filtros\n",
    "filtered_df = df[\n",
    "    (df['author'].str.contains(author_filter, case=False)) &\n",
    "    (df['genre'].apply(lambda x: any(item in selected_genres for item in x.values()))) &\n",
    "    (df['rating'] >= min_rating) &\n",
    "    (df['rating'] <= max_rating) &\n",
    "    (df['publication_date'] >= date)\n",
    "]\n",
    "\n",
    "# Mostrar los datos filtrados\n",
    "for index, row in filtered_df.iterrows():\n",
    "    st.write(f\"**Title:** {row['title']}\")\n",
    "    st.write(f\"**Author:** {row['author']}\")\n",
    "    st.write(f\"**Genre:** {', '.join(row['genre'].values())}\")\n",
    "    st.write(f\"**Rating:** {row['rating']}\")\n",
    "    st.write(f\"**Number of pages:** {row['num_page']}\")\n",
    "    st.image(row['cover'], caption='Cover', use_column_width=True)\n",
    "    st.write('---')"
   ]
  },
  {
   "cell_type": "code",
   "execution_count": null,
   "metadata": {},
   "outputs": [],
   "source": [
    "\n",
    "# Title for the side bar\n",
    "st.sidebar.header('Filters')\n",
    "\n",
    "# Filter for the author\n",
    "unique_authors = df['author'].unique()\n",
    "unique_authors = ['Choose an option'] + list(unique_authors)\n",
    "selected_author = st.sidebar.selectbox('Author', unique_authors)\n",
    "if selected_author != 'Choose an option':\n",
    "    filtered_df = df[df['author'] == selected_author]\n",
    "    st.write(filtered_df)\n",
    "    st.write(f\"Author selected: {selected_author}\")\n",
    "else:\n",
    "    st.write(\"No author selected\")\n",
    "\n",
    "# Filter for the genre\n",
    "df['genre'] = df['genre'].apply(lambda x: ast.literal_eval(x))\n",
    "unique_genres = set()\n",
    "for value in df['genre']:\n",
    "    unique_genres.update(value.values())\n",
    "selected_genres = st.sidebar.multiselect('Genre', list(unique_genres))\n",
    "filtered_df = df[df['genre'].apply(lambda x: any(item in selected_genres for item in x.values()))]\n",
    "if selected_genres:\n",
    "    st.write(filtered_df)\n",
    "else:\n",
    "    st.write(\"No genres selected\")\n",
    "\n",
    "\n",
    "# Filter for the publication year\n",
    "years = sorted(df['publication_date'].dt.year.unique())\n",
    "years.insert(0, '')\n",
    "selected_year = st.sidebar.select_slider('Publication year', options=years)\n",
    "if selected_year != '':\n",
    "    filtered_df = df[df['publication_date'].dt.year == selected_year]\n",
    "    st.write(filtered_df)\n",
    "else:\n",
    "    st.write(\"No year selected\")\n",
    "\n",
    "# Filtro para la calificación\n",
    "min_rating, max_rating = st.sidebar.slider('Rating', 0.0, 5.0, (0.0, 5.0))\n",
    "if min_rating != 0.0 or max_rating != 5.0:\n",
    "    filtered_df = df[(df['rating'] >= min_rating) & (df['rating'] <= max_rating)]\n",
    "    if not filtered_df.empty:\n",
    "        st.write(filtered_df)\n",
    "    else:\n",
    "        st.write(\"No matching data\")\n",
    "else:\n",
    "    st.write(\"No rating filter applied\")\n",
    "\n",
    "# Filtro para el número de ratings\n",
    "min_num_ratings = df['rating_count'].min()\n",
    "max_num_ratings = df['rating_count'].max()\n",
    "\n",
    "# Filtro para el número de ratings con valores por defecto que abarquen todo el rango\n",
    "selected_min, selected_max = st.sidebar.slider('Number of ratings', min_num_ratings, max_num_ratings, (min_num_ratings, max_num_ratings))\n",
    "if (selected_min, selected_max) != (min_num_ratings, max_num_ratings):\n",
    "    filtered_df = df[(df['rating_count'] >= selected_min) & (df['rating_count'] <= selected_max)]\n",
    "    if not filtered_df.empty:\n",
    "        st.write(filtered_df)\n",
    "    else:\n",
    "        st.write(\"No matching data\")\n",
    "else:\n",
    "    st.write(\"No number of ratings filter applied\")\n",
    "\n",
    "# Filtro para el número de paginas\n",
    "min_num_pages = df['num_page'].min()\n",
    "max_num_pages = df['num_page'].max()\n",
    "selected_min, selected_max = st.sidebar.slider('Number of pages', min_num_pages, max_num_pages, (min_num_pages, max_num_pages))\n",
    "if (selected_min, selected_max) != (min_num_pages, max_num_pages):\n",
    "    filtered_df = df[(df['num_page'] >= selected_min) & (df['num_page'] <= selected_max)]\n",
    "    if not filtered_df.empty:\n",
    "        st.write(filtered_df)\n",
    "    else:\n",
    "        st.write(\"No matching data\")\n",
    "else:\n",
    "    st.write(\"No number of pages filter applied\")"
   ]
  },
  {
   "cell_type": "code",
   "execution_count": null,
   "metadata": {},
   "outputs": [],
   "source": [
    "# Mostrar los resultados filtrados\n",
    "if not base_df.empty:\n",
    "    st.write(base_df)\n",
    "else:\n",
    "    st.write(\"No matching data\")"
   ]
  },
  {
   "cell_type": "code",
   "execution_count": null,
   "metadata": {},
   "outputs": [],
   "source": [
    "if filters_applied and not base_df.empty:\n",
    "    num_columns = 3  # Número de columnas para mostrar los resultados\n",
    "\n",
    "    # Divide el espacio de la página en 'num_columns' columnas\n",
    "    columns = st.columns(num_columns)\n",
    "\n",
    "    for index, row in base_df.iterrows():\n",
    "        with columns[index % num_columns]:  # Distribuye los resultados en las columnas\n",
    "            st.markdown(f\"**Title:** {row['title']}\")\n",
    "            st.markdown(f\"**Author:** {row['author']}\")\n",
    "            st.markdown(f'**Genre:** {\", \".join(row[\"genre\"].values())}')\n",
    "            rating_with_emoji = map_rating_to_emoji(row['rating'])\n",
    "            st.markdown(f\"**Rating:** {rating_with_emoji}\")\n",
    "            st.markdown(f'**Number of ratings:** {row[\"rating_count\"]}')\n",
    "            st.markdown(f'**Number of reviews:** {row[\"review_count\"]}')\n",
    "            st.markdown(f'**Publication date:** {row[\"publication_date\"].strftime(\"%d/%m/%Y\")}')\n",
    "            st.markdown(f'**Number of pages:** {row[\"num_page\"]}')\n",
    "\n",
    "            cover_url = row['cover']  # Asigna el valor de la columna 'cover' que contiene la URL de la imagen\n",
    "            if cover_url:\n",
    "                st.image(cover_url, caption='Cover', width=100)\n",
    "            else:\n",
    "                st.write(\"No cover available\")\n",
    "\n",
    "            # Salto de línea entre cada libro\n",
    "            st.markdown(\"---\")\n",
    "elif not filters_applied:\n",
    "    st.write(\"Select filters to display results 📚\")\n",
    "else:\n",
    "    st.write(\"No matching data\")"
   ]
  }
 ],
 "metadata": {
  "kernelspec": {
   "display_name": "base",
   "language": "python",
   "name": "python3"
  },
  "language_info": {
   "codemirror_mode": {
    "name": "ipython",
    "version": 3
   },
   "file_extension": ".py",
   "mimetype": "text/x-python",
   "name": "python",
   "nbconvert_exporter": "python",
   "pygments_lexer": "ipython3",
   "version": "3.11.4"
  }
 },
 "nbformat": 4,
 "nbformat_minor": 2
}
