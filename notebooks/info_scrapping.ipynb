{
 "cells": [
  {
   "cell_type": "markdown",
   "metadata": {},
   "source": [
    "# Scrapping all the books' information"
   ]
  },
  {
   "cell_type": "markdown",
   "metadata": {},
   "source": [
    "Import of libraries"
   ]
  },
  {
   "cell_type": "code",
   "execution_count": 1,
   "metadata": {},
   "outputs": [],
   "source": [
    "import pandas as pd\n",
    "import sys\n",
    "from tqdm import tqdm"
   ]
  },
  {
   "cell_type": "markdown",
   "metadata": {},
   "source": [
    "Importing .py doc to access the needed function"
   ]
  },
  {
   "cell_type": "code",
   "execution_count": 2,
   "metadata": {},
   "outputs": [],
   "source": [
    "# Printing all directories for interpreter to search \n",
    "\n",
    "sys.path.append('../')\n",
    "\n",
    "# Importing module\n",
    "\n",
    "from src.support import *"
   ]
  },
  {
   "cell_type": "markdown",
   "metadata": {},
   "source": [
    "Importing the CSV with the books' links"
   ]
  },
  {
   "cell_type": "code",
   "execution_count": 3,
   "metadata": {},
   "outputs": [
    {
     "data": {
      "text/html": [
       "<div>\n",
       "<style scoped>\n",
       "    .dataframe tbody tr th:only-of-type {\n",
       "        vertical-align: middle;\n",
       "    }\n",
       "\n",
       "    .dataframe tbody tr th {\n",
       "        vertical-align: top;\n",
       "    }\n",
       "\n",
       "    .dataframe thead th {\n",
       "        text-align: right;\n",
       "    }\n",
       "</style>\n",
       "<table border=\"1\" class=\"dataframe\">\n",
       "  <thead>\n",
       "    <tr style=\"text-align: right;\">\n",
       "      <th></th>\n",
       "      <th>0</th>\n",
       "    </tr>\n",
       "  </thead>\n",
       "  <tbody>\n",
       "    <tr>\n",
       "      <th>0</th>\n",
       "      <td>https://www.goodreads.com/book/show/2767052-th...</td>\n",
       "    </tr>\n",
       "    <tr>\n",
       "      <th>1</th>\n",
       "      <td>https://www.goodreads.com/book/show/2.Harry_Po...</td>\n",
       "    </tr>\n",
       "    <tr>\n",
       "      <th>2</th>\n",
       "      <td>https://www.goodreads.com/book/show/1885.Pride...</td>\n",
       "    </tr>\n",
       "    <tr>\n",
       "      <th>3</th>\n",
       "      <td>https://www.goodreads.com/book/show/2657.To_Ki...</td>\n",
       "    </tr>\n",
       "    <tr>\n",
       "      <th>4</th>\n",
       "      <td>https://www.goodreads.com/book/show/19063.The_...</td>\n",
       "    </tr>\n",
       "  </tbody>\n",
       "</table>\n",
       "</div>"
      ],
      "text/plain": [
       "                                                   0\n",
       "0  https://www.goodreads.com/book/show/2767052-th...\n",
       "1  https://www.goodreads.com/book/show/2.Harry_Po...\n",
       "2  https://www.goodreads.com/book/show/1885.Pride...\n",
       "3  https://www.goodreads.com/book/show/2657.To_Ki...\n",
       "4  https://www.goodreads.com/book/show/19063.The_..."
      ]
     },
     "execution_count": 3,
     "metadata": {},
     "output_type": "execute_result"
    }
   ],
   "source": [
    "books_urls = pd.read_csv('../data/books_urls.csv')\n",
    "books_urls.head()"
   ]
  },
  {
   "cell_type": "markdown",
   "metadata": {},
   "source": [
    "Turning the info of the data frame into a list so that it can be iterable for the function"
   ]
  },
  {
   "cell_type": "code",
   "execution_count": 4,
   "metadata": {},
   "outputs": [
    {
     "data": {
      "text/plain": [
       "['https://www.goodreads.com/book/show/2767052-the-hunger-games',\n",
       " 'https://www.goodreads.com/book/show/2.Harry_Potter_and_the_Order_of_the_Phoenix',\n",
       " 'https://www.goodreads.com/book/show/1885.Pride_and_Prejudice',\n",
       " 'https://www.goodreads.com/book/show/2657.To_Kill_a_Mockingbird',\n",
       " 'https://www.goodreads.com/book/show/19063.The_Book_Thief']"
      ]
     },
     "execution_count": 4,
     "metadata": {},
     "output_type": "execute_result"
    }
   ],
   "source": [
    "books_urls_list = [url for url in books_urls[\"0\"]]\n",
    "books_urls_list[:5]"
   ]
  },
  {
   "cell_type": "markdown",
   "metadata": {},
   "source": [
    "Calling the function to get all the books' information"
   ]
  },
  {
   "cell_type": "code",
   "execution_count": 5,
   "metadata": {},
   "outputs": [
    {
     "name": "stderr",
     "output_type": "stream",
     "text": [
      " 99%|█████████▉| 9918/10000 [7:00:17<03:28,  2.54s/it]   \n"
     ]
    },
    {
     "data": {
      "text/plain": [
       "[{'Cover': 'https://images-na.ssl-images-amazon.com/images/S/compressed.photo.goodreads.com/books/1586722975i/2767052.jpg',\n",
       "  'Title': 'The Hunger Games',\n",
       "  'Author': 'Suzanne Collins',\n",
       "  'Genre': 'Young , Adult, Fiction, Fantasy, Dystopia',\n",
       "  'Rating': '4.33',\n",
       "  'Rating Count': '8,272,162\\xa0ratings207,967\\xa0reviews',\n",
       "  'Year': 'First published September 14, 2008',\n",
       "  'Pages': '374 pages, Hardcover'},\n",
       " {'Cover': 'https://images-na.ssl-images-amazon.com/images/S/compressed.photo.goodreads.com/books/1546910265i/2.jpg',\n",
       "  'Title': 'Harry Potter and the Order of the Phoenix',\n",
       "  'Author': 'J.K. Rowling',\n",
       "  'Genre': 'Young , Adult, Fiction, Magic, Childrens',\n",
       "  'Rating': '4.50',\n",
       "  'Rating Count': '3,267,591\\xa0ratings60,535\\xa0reviews',\n",
       "  'Year': 'First published June 21, 2003',\n",
       "  'Pages': '912 pages, Paperback'},\n",
       " {'Cover': 'https://images-na.ssl-images-amazon.com/images/S/compressed.photo.goodreads.com/books/1320399351i/1885.jpg',\n",
       "  'Title': 'Pride and Prejudice',\n",
       "  'Author': 'Jane Austen',\n",
       "  'Genre': 'Classics, Fiction, Romance, Historical , Fiction',\n",
       "  'Rating': '4.28',\n",
       "  'Rating Count': '4,103,863\\xa0ratings108,310\\xa0reviews',\n",
       "  'Year': 'First published January 28, 1813',\n",
       "  'Pages': '279 pages, Paperback'}]"
      ]
     },
     "execution_count": 5,
     "metadata": {},
     "output_type": "execute_result"
    }
   ],
   "source": [
    "book_info_generator = tqdm(get_info(books_urls_list), total = len(books_urls_list))\n",
    "book_info = list(book_info_generator)\n",
    "book_info[:3]"
   ]
  },
  {
   "cell_type": "markdown",
   "metadata": {},
   "source": [
    "Turning the list of dictionaries into a data frame"
   ]
  },
  {
   "cell_type": "code",
   "execution_count": 6,
   "metadata": {},
   "outputs": [
    {
     "data": {
      "text/html": [
       "<div>\n",
       "<style scoped>\n",
       "    .dataframe tbody tr th:only-of-type {\n",
       "        vertical-align: middle;\n",
       "    }\n",
       "\n",
       "    .dataframe tbody tr th {\n",
       "        vertical-align: top;\n",
       "    }\n",
       "\n",
       "    .dataframe thead th {\n",
       "        text-align: right;\n",
       "    }\n",
       "</style>\n",
       "<table border=\"1\" class=\"dataframe\">\n",
       "  <thead>\n",
       "    <tr style=\"text-align: right;\">\n",
       "      <th></th>\n",
       "      <th>Cover</th>\n",
       "      <th>Title</th>\n",
       "      <th>Author</th>\n",
       "      <th>Genre</th>\n",
       "      <th>Rating</th>\n",
       "      <th>Rating Count</th>\n",
       "      <th>Year</th>\n",
       "      <th>Pages</th>\n",
       "    </tr>\n",
       "  </thead>\n",
       "  <tbody>\n",
       "    <tr>\n",
       "      <th>0</th>\n",
       "      <td>https://images-na.ssl-images-amazon.com/images...</td>\n",
       "      <td>The Hunger Games</td>\n",
       "      <td>Suzanne Collins</td>\n",
       "      <td>Young , Adult, Fiction, Fantasy, Dystopia</td>\n",
       "      <td>4.33</td>\n",
       "      <td>8,272,162 ratings207,967 reviews</td>\n",
       "      <td>First published September 14, 2008</td>\n",
       "      <td>374 pages, Hardcover</td>\n",
       "    </tr>\n",
       "    <tr>\n",
       "      <th>1</th>\n",
       "      <td>https://images-na.ssl-images-amazon.com/images...</td>\n",
       "      <td>Harry Potter and the Order of the Phoenix</td>\n",
       "      <td>J.K. Rowling</td>\n",
       "      <td>Young , Adult, Fiction, Magic, Childrens</td>\n",
       "      <td>4.50</td>\n",
       "      <td>3,267,591 ratings60,535 reviews</td>\n",
       "      <td>First published June 21, 2003</td>\n",
       "      <td>912 pages, Paperback</td>\n",
       "    </tr>\n",
       "    <tr>\n",
       "      <th>2</th>\n",
       "      <td>https://images-na.ssl-images-amazon.com/images...</td>\n",
       "      <td>Pride and Prejudice</td>\n",
       "      <td>Jane Austen</td>\n",
       "      <td>Classics, Fiction, Romance, Historical , Fiction</td>\n",
       "      <td>4.28</td>\n",
       "      <td>4,103,863 ratings108,310 reviews</td>\n",
       "      <td>First published January 28, 1813</td>\n",
       "      <td>279 pages, Paperback</td>\n",
       "    </tr>\n",
       "    <tr>\n",
       "      <th>3</th>\n",
       "      <td>https://images-na.ssl-images-amazon.com/images...</td>\n",
       "      <td>To Kill a Mockingbird</td>\n",
       "      <td>Harper Lee</td>\n",
       "      <td>Classics, Fiction, Historical , Fiction, School</td>\n",
       "      <td>4.26</td>\n",
       "      <td>5,888,672 ratings114,187 reviews</td>\n",
       "      <td>First published July 11, 1960</td>\n",
       "      <td>323 pages, Paperback</td>\n",
       "    </tr>\n",
       "    <tr>\n",
       "      <th>4</th>\n",
       "      <td>https://images-na.ssl-images-amazon.com/images...</td>\n",
       "      <td>The Book Thief</td>\n",
       "      <td>Markus Zusak</td>\n",
       "      <td>Historical , Fiction, Fiction, Young , Adult</td>\n",
       "      <td>4.39</td>\n",
       "      <td>2,459,198 ratings140,987 reviews</td>\n",
       "      <td>First published March 1, 2005</td>\n",
       "      <td>592 pages, Hardcover</td>\n",
       "    </tr>\n",
       "  </tbody>\n",
       "</table>\n",
       "</div>"
      ],
      "text/plain": [
       "                                               Cover  \\\n",
       "0  https://images-na.ssl-images-amazon.com/images...   \n",
       "1  https://images-na.ssl-images-amazon.com/images...   \n",
       "2  https://images-na.ssl-images-amazon.com/images...   \n",
       "3  https://images-na.ssl-images-amazon.com/images...   \n",
       "4  https://images-na.ssl-images-amazon.com/images...   \n",
       "\n",
       "                                       Title           Author  \\\n",
       "0                           The Hunger Games  Suzanne Collins   \n",
       "1  Harry Potter and the Order of the Phoenix     J.K. Rowling   \n",
       "2                        Pride and Prejudice      Jane Austen   \n",
       "3                      To Kill a Mockingbird       Harper Lee   \n",
       "4                             The Book Thief     Markus Zusak   \n",
       "\n",
       "                                              Genre Rating  \\\n",
       "0         Young , Adult, Fiction, Fantasy, Dystopia   4.33   \n",
       "1          Young , Adult, Fiction, Magic, Childrens   4.50   \n",
       "2  Classics, Fiction, Romance, Historical , Fiction   4.28   \n",
       "3   Classics, Fiction, Historical , Fiction, School   4.26   \n",
       "4      Historical , Fiction, Fiction, Young , Adult   4.39   \n",
       "\n",
       "                       Rating Count                                Year  \\\n",
       "0  8,272,162 ratings207,967 reviews  First published September 14, 2008   \n",
       "1   3,267,591 ratings60,535 reviews       First published June 21, 2003   \n",
       "2  4,103,863 ratings108,310 reviews    First published January 28, 1813   \n",
       "3  5,888,672 ratings114,187 reviews       First published July 11, 1960   \n",
       "4  2,459,198 ratings140,987 reviews       First published March 1, 2005   \n",
       "\n",
       "                  Pages  \n",
       "0  374 pages, Hardcover  \n",
       "1  912 pages, Paperback  \n",
       "2  279 pages, Paperback  \n",
       "3  323 pages, Paperback  \n",
       "4  592 pages, Hardcover  "
      ]
     },
     "execution_count": 6,
     "metadata": {},
     "output_type": "execute_result"
    }
   ],
   "source": [
    "books_information = pd.DataFrame(book_info)\n",
    "books_information.head()"
   ]
  },
  {
   "cell_type": "code",
   "execution_count": 7,
   "metadata": {},
   "outputs": [],
   "source": [
    "books_information.to_csv('../data/books_information.csv', index = False)"
   ]
  },
  {
   "cell_type": "code",
   "execution_count": null,
   "metadata": {},
   "outputs": [],
   "source": []
  }
 ],
 "metadata": {
  "kernelspec": {
   "display_name": "base",
   "language": "python",
   "name": "python3"
  },
  "language_info": {
   "codemirror_mode": {
    "name": "ipython",
    "version": 3
   },
   "file_extension": ".py",
   "mimetype": "text/x-python",
   "name": "python",
   "nbconvert_exporter": "python",
   "pygments_lexer": "ipython3",
   "version": "3.11.4"
  }
 },
 "nbformat": 4,
 "nbformat_minor": 2
}
