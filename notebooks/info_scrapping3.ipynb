{
 "cells": [
  {
   "cell_type": "markdown",
   "metadata": {},
   "source": [
    "# Scrapping all the books' information"
   ]
  },
  {
   "cell_type": "markdown",
   "metadata": {},
   "source": [
    "Import of libraries"
   ]
  },
  {
   "cell_type": "code",
   "execution_count": 1,
   "metadata": {},
   "outputs": [],
   "source": [
    "import pandas as pd\n",
    "import sys\n",
    "from tqdm import tqdm"
   ]
  },
  {
   "cell_type": "markdown",
   "metadata": {},
   "source": [
    "Importing .py doc to access the needed function"
   ]
  },
  {
   "cell_type": "code",
   "execution_count": 2,
   "metadata": {},
   "outputs": [],
   "source": [
    "# Printing all directories for interpreter to search \n",
    "\n",
    "sys.path.append('../')\n",
    "\n",
    "# Importing module\n",
    "\n",
    "from src.support import *"
   ]
  },
  {
   "cell_type": "markdown",
   "metadata": {},
   "source": [
    "Importing the CSV with the books' links"
   ]
  },
  {
   "cell_type": "code",
   "execution_count": 3,
   "metadata": {},
   "outputs": [
    {
     "data": {
      "text/html": [
       "<div>\n",
       "<style scoped>\n",
       "    .dataframe tbody tr th:only-of-type {\n",
       "        vertical-align: middle;\n",
       "    }\n",
       "\n",
       "    .dataframe tbody tr th {\n",
       "        vertical-align: top;\n",
       "    }\n",
       "\n",
       "    .dataframe thead th {\n",
       "        text-align: right;\n",
       "    }\n",
       "</style>\n",
       "<table border=\"1\" class=\"dataframe\">\n",
       "  <thead>\n",
       "    <tr style=\"text-align: right;\">\n",
       "      <th></th>\n",
       "      <th>0</th>\n",
       "    </tr>\n",
       "  </thead>\n",
       "  <tbody>\n",
       "    <tr>\n",
       "      <th>0</th>\n",
       "      <td>https://www.goodreads.com/book/show/8490112-da...</td>\n",
       "    </tr>\n",
       "    <tr>\n",
       "      <th>1</th>\n",
       "      <td>https://www.goodreads.com/book/show/11614718-d...</td>\n",
       "    </tr>\n",
       "    <tr>\n",
       "      <th>2</th>\n",
       "      <td>https://www.goodreads.com/book/show/112750.Dar...</td>\n",
       "    </tr>\n",
       "    <tr>\n",
       "      <th>3</th>\n",
       "      <td>https://www.goodreads.com/book/show/38619.Magi...</td>\n",
       "    </tr>\n",
       "    <tr>\n",
       "      <th>4</th>\n",
       "      <td>https://www.goodreads.com/book/show/7747374-i-...</td>\n",
       "    </tr>\n",
       "  </tbody>\n",
       "</table>\n",
       "</div>"
      ],
      "text/plain": [
       "                                                   0\n",
       "0  https://www.goodreads.com/book/show/8490112-da...\n",
       "1  https://www.goodreads.com/book/show/11614718-d...\n",
       "2  https://www.goodreads.com/book/show/112750.Dar...\n",
       "3  https://www.goodreads.com/book/show/38619.Magi...\n",
       "4  https://www.goodreads.com/book/show/7747374-i-..."
      ]
     },
     "execution_count": 3,
     "metadata": {},
     "output_type": "execute_result"
    }
   ],
   "source": [
    "books_urls = pd.read_csv('../data/books_urls3.csv')\n",
    "books_urls.head()"
   ]
  },
  {
   "cell_type": "markdown",
   "metadata": {},
   "source": [
    "Turning the info of the data frame into a list so that it can be iterable for the function"
   ]
  },
  {
   "cell_type": "code",
   "execution_count": 4,
   "metadata": {},
   "outputs": [
    {
     "data": {
      "text/plain": [
       "['https://www.goodreads.com/book/show/8490112-daughter-of-smoke-bone',\n",
       " 'https://www.goodreads.com/book/show/11614718-delirium',\n",
       " 'https://www.goodreads.com/book/show/112750.Darkfever',\n",
       " 'https://www.goodreads.com/book/show/38619.Magic_Bites',\n",
       " 'https://www.goodreads.com/book/show/7747374-i-am-number-four']"
      ]
     },
     "execution_count": 4,
     "metadata": {},
     "output_type": "execute_result"
    }
   ],
   "source": [
    "books_urls_list = [url for url in books_urls[\"0\"]]\n",
    "books_urls_list[:5]"
   ]
  },
  {
   "cell_type": "markdown",
   "metadata": {},
   "source": [
    "Calling the function to get all the books' information"
   ]
  },
  {
   "cell_type": "code",
   "execution_count": 5,
   "metadata": {},
   "outputs": [
    {
     "name": "stderr",
     "output_type": "stream",
     "text": [
      "  0%|          | 0/9940 [00:00<?, ?it/s]"
     ]
    },
    {
     "name": "stderr",
     "output_type": "stream",
     "text": [
      " 98%|█████████▊| 9732/9940 [11:46:15<15:05,  4.35s/it]   \n"
     ]
    },
    {
     "data": {
      "text/plain": [
       "[{'Cover': 'https://images-na.ssl-images-amazon.com/images/S/compressed.photo.goodreads.com/books/1461353773i/8490112.jpg',\n",
       "  'Title': 'Daughter of Smoke & Bone',\n",
       "  'Author': 'Laini Taylor',\n",
       "  'Genre': 'Fantasy, Young , Adult, Romance, Paranormal',\n",
       "  'Rating': '3.99',\n",
       "  'Rating Count': '364,585\\xa0ratings33,599\\xa0reviews',\n",
       "  'Year': 'First published September 27, 2011',\n",
       "  'Pages': '418 pages, Hardcover'},\n",
       " {'Cover': 'https://images-na.ssl-images-amazon.com/images/S/compressed.photo.goodreads.com/books/1327890411i/11614718.jpg',\n",
       "  'Title': 'Delirium',\n",
       "  'Author': 'Lauren Oliver',\n",
       "  'Genre': 'Young , Adult, Dystopia, Romance, Fantasy',\n",
       "  'Rating': '3.95',\n",
       "  'Rating Count': '462,169\\xa0ratings28,389\\xa0reviews',\n",
       "  'Year': 'First published February 3, 2011',\n",
       "  'Pages': '441 pages, Paperback'},\n",
       " {'Cover': 'https://images-na.ssl-images-amazon.com/images/S/compressed.photo.goodreads.com/books/1392579949i/112750.jpg',\n",
       "  'Title': 'Darkfever',\n",
       "  'Author': 'Karen Marie Moning',\n",
       "  'Genre': 'Fantasy, Urban , Fantasy, Paranormal, Romance',\n",
       "  'Rating': '4.06',\n",
       "  'Rating Count': '178,797\\xa0ratings12,001\\xa0reviews',\n",
       "  'Year': 'First published October 31, 2006',\n",
       "  'Pages': '309 pages, Hardcover'}]"
      ]
     },
     "execution_count": 5,
     "metadata": {},
     "output_type": "execute_result"
    }
   ],
   "source": [
    "book_info_generator = tqdm(get_info(books_urls_list), total = len(books_urls_list))\n",
    "book_info = list(book_info_generator)\n",
    "book_info[:3]"
   ]
  },
  {
   "cell_type": "markdown",
   "metadata": {},
   "source": [
    "Turning the list of dictionaries into a data frame"
   ]
  },
  {
   "cell_type": "code",
   "execution_count": 6,
   "metadata": {},
   "outputs": [
    {
     "data": {
      "text/html": [
       "<div>\n",
       "<style scoped>\n",
       "    .dataframe tbody tr th:only-of-type {\n",
       "        vertical-align: middle;\n",
       "    }\n",
       "\n",
       "    .dataframe tbody tr th {\n",
       "        vertical-align: top;\n",
       "    }\n",
       "\n",
       "    .dataframe thead th {\n",
       "        text-align: right;\n",
       "    }\n",
       "</style>\n",
       "<table border=\"1\" class=\"dataframe\">\n",
       "  <thead>\n",
       "    <tr style=\"text-align: right;\">\n",
       "      <th></th>\n",
       "      <th>Cover</th>\n",
       "      <th>Title</th>\n",
       "      <th>Author</th>\n",
       "      <th>Genre</th>\n",
       "      <th>Rating</th>\n",
       "      <th>Rating Count</th>\n",
       "      <th>Year</th>\n",
       "      <th>Pages</th>\n",
       "    </tr>\n",
       "  </thead>\n",
       "  <tbody>\n",
       "    <tr>\n",
       "      <th>0</th>\n",
       "      <td>https://images-na.ssl-images-amazon.com/images...</td>\n",
       "      <td>Daughter of Smoke &amp; Bone</td>\n",
       "      <td>Laini Taylor</td>\n",
       "      <td>Fantasy, Young , Adult, Romance, Paranormal</td>\n",
       "      <td>3.99</td>\n",
       "      <td>364,585 ratings33,599 reviews</td>\n",
       "      <td>First published September 27, 2011</td>\n",
       "      <td>418 pages, Hardcover</td>\n",
       "    </tr>\n",
       "    <tr>\n",
       "      <th>1</th>\n",
       "      <td>https://images-na.ssl-images-amazon.com/images...</td>\n",
       "      <td>Delirium</td>\n",
       "      <td>Lauren Oliver</td>\n",
       "      <td>Young , Adult, Dystopia, Romance, Fantasy</td>\n",
       "      <td>3.95</td>\n",
       "      <td>462,169 ratings28,389 reviews</td>\n",
       "      <td>First published February 3, 2011</td>\n",
       "      <td>441 pages, Paperback</td>\n",
       "    </tr>\n",
       "    <tr>\n",
       "      <th>2</th>\n",
       "      <td>https://images-na.ssl-images-amazon.com/images...</td>\n",
       "      <td>Darkfever</td>\n",
       "      <td>Karen Marie Moning</td>\n",
       "      <td>Fantasy, Urban , Fantasy, Paranormal, Romance</td>\n",
       "      <td>4.06</td>\n",
       "      <td>178,797 ratings12,001 reviews</td>\n",
       "      <td>First published October 31, 2006</td>\n",
       "      <td>309 pages, Hardcover</td>\n",
       "    </tr>\n",
       "    <tr>\n",
       "      <th>3</th>\n",
       "      <td>https://images-na.ssl-images-amazon.com/images...</td>\n",
       "      <td>Magic Bites</td>\n",
       "      <td>Ilona Andrews</td>\n",
       "      <td>Urban , Fantasy, Fantasy, Paranormal, Romance</td>\n",
       "      <td>4.06</td>\n",
       "      <td>123,465 ratings8,433 reviews</td>\n",
       "      <td>First published March 27, 2007</td>\n",
       "      <td>261 pages, Mass Market Paperback</td>\n",
       "    </tr>\n",
       "    <tr>\n",
       "      <th>4</th>\n",
       "      <td>https://images-na.ssl-images-amazon.com/images...</td>\n",
       "      <td>I Am Number Four</td>\n",
       "      <td>Pittacus Lore</td>\n",
       "      <td>Young , Adult, Fantasy, Science , Fiction</td>\n",
       "      <td>3.94</td>\n",
       "      <td>338,600 ratings16,807 reviews</td>\n",
       "      <td>First published August 3, 2010</td>\n",
       "      <td>440 pages, Hardcover</td>\n",
       "    </tr>\n",
       "  </tbody>\n",
       "</table>\n",
       "</div>"
      ],
      "text/plain": [
       "                                               Cover  \\\n",
       "0  https://images-na.ssl-images-amazon.com/images...   \n",
       "1  https://images-na.ssl-images-amazon.com/images...   \n",
       "2  https://images-na.ssl-images-amazon.com/images...   \n",
       "3  https://images-na.ssl-images-amazon.com/images...   \n",
       "4  https://images-na.ssl-images-amazon.com/images...   \n",
       "\n",
       "                      Title              Author  \\\n",
       "0  Daughter of Smoke & Bone        Laini Taylor   \n",
       "1                  Delirium       Lauren Oliver   \n",
       "2                 Darkfever  Karen Marie Moning   \n",
       "3               Magic Bites       Ilona Andrews   \n",
       "4          I Am Number Four       Pittacus Lore   \n",
       "\n",
       "                                           Genre Rating  \\\n",
       "0    Fantasy, Young , Adult, Romance, Paranormal   3.99   \n",
       "1      Young , Adult, Dystopia, Romance, Fantasy   3.95   \n",
       "2  Fantasy, Urban , Fantasy, Paranormal, Romance   4.06   \n",
       "3  Urban , Fantasy, Fantasy, Paranormal, Romance   4.06   \n",
       "4      Young , Adult, Fantasy, Science , Fiction   3.94   \n",
       "\n",
       "                    Rating Count                                Year  \\\n",
       "0  364,585 ratings33,599 reviews  First published September 27, 2011   \n",
       "1  462,169 ratings28,389 reviews    First published February 3, 2011   \n",
       "2  178,797 ratings12,001 reviews    First published October 31, 2006   \n",
       "3   123,465 ratings8,433 reviews      First published March 27, 2007   \n",
       "4  338,600 ratings16,807 reviews      First published August 3, 2010   \n",
       "\n",
       "                              Pages  \n",
       "0              418 pages, Hardcover  \n",
       "1              441 pages, Paperback  \n",
       "2              309 pages, Hardcover  \n",
       "3  261 pages, Mass Market Paperback  \n",
       "4              440 pages, Hardcover  "
      ]
     },
     "execution_count": 6,
     "metadata": {},
     "output_type": "execute_result"
    }
   ],
   "source": [
    "books_information = pd.DataFrame(book_info)\n",
    "books_information.head()"
   ]
  },
  {
   "cell_type": "code",
   "execution_count": 7,
   "metadata": {},
   "outputs": [],
   "source": [
    "books_information.to_csv('../data/books_information3.csv', index = False)"
   ]
  },
  {
   "cell_type": "code",
   "execution_count": null,
   "metadata": {},
   "outputs": [],
   "source": []
  }
 ],
 "metadata": {
  "kernelspec": {
   "display_name": "base",
   "language": "python",
   "name": "python3"
  },
  "language_info": {
   "codemirror_mode": {
    "name": "ipython",
    "version": 3
   },
   "file_extension": ".py",
   "mimetype": "text/x-python",
   "name": "python",
   "nbconvert_exporter": "python",
   "pygments_lexer": "ipython3",
   "version": "3.11.4"
  }
 },
 "nbformat": 4,
 "nbformat_minor": 2
}
