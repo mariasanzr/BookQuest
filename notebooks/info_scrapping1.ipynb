{
 "cells": [
  {
   "cell_type": "markdown",
   "metadata": {},
   "source": [
    "# Scrapping all the books' information"
   ]
  },
  {
   "cell_type": "markdown",
   "metadata": {},
   "source": [
    "Import of libraries"
   ]
  },
  {
   "cell_type": "code",
   "execution_count": 1,
   "metadata": {},
   "outputs": [],
   "source": [
    "import pandas as pd\n",
    "import sys\n",
    "from tqdm import tqdm"
   ]
  },
  {
   "cell_type": "markdown",
   "metadata": {},
   "source": [
    "Importing .py doc to access the needed function"
   ]
  },
  {
   "cell_type": "code",
   "execution_count": 2,
   "metadata": {},
   "outputs": [],
   "source": [
    "# Printing all directories for interpreter to search \n",
    "\n",
    "sys.path.append('../')\n",
    "\n",
    "# Importing module\n",
    "\n",
    "from src.support import *"
   ]
  },
  {
   "cell_type": "markdown",
   "metadata": {},
   "source": [
    "Importing the CSV with the books' links"
   ]
  },
  {
   "cell_type": "code",
   "execution_count": 3,
   "metadata": {},
   "outputs": [
    {
     "data": {
      "text/html": [
       "<div>\n",
       "<style scoped>\n",
       "    .dataframe tbody tr th:only-of-type {\n",
       "        vertical-align: middle;\n",
       "    }\n",
       "\n",
       "    .dataframe tbody tr th {\n",
       "        vertical-align: top;\n",
       "    }\n",
       "\n",
       "    .dataframe thead th {\n",
       "        text-align: right;\n",
       "    }\n",
       "</style>\n",
       "<table border=\"1\" class=\"dataframe\">\n",
       "  <thead>\n",
       "    <tr style=\"text-align: right;\">\n",
       "      <th></th>\n",
       "      <th>0</th>\n",
       "    </tr>\n",
       "  </thead>\n",
       "  <tbody>\n",
       "    <tr>\n",
       "      <th>0</th>\n",
       "      <td>https://www.goodreads.com/book/show/2657.To_Ki...</td>\n",
       "    </tr>\n",
       "    <tr>\n",
       "      <th>1</th>\n",
       "      <td>https://www.goodreads.com/book/show/72193.Harr...</td>\n",
       "    </tr>\n",
       "    <tr>\n",
       "      <th>2</th>\n",
       "      <td>https://www.goodreads.com/book/show/1885.Pride...</td>\n",
       "    </tr>\n",
       "    <tr>\n",
       "      <th>3</th>\n",
       "      <td>https://www.goodreads.com/book/show/48855.The_...</td>\n",
       "    </tr>\n",
       "    <tr>\n",
       "      <th>4</th>\n",
       "      <td>https://www.goodreads.com/book/show/170448.Ani...</td>\n",
       "    </tr>\n",
       "  </tbody>\n",
       "</table>\n",
       "</div>"
      ],
      "text/plain": [
       "                                                   0\n",
       "0  https://www.goodreads.com/book/show/2657.To_Ki...\n",
       "1  https://www.goodreads.com/book/show/72193.Harr...\n",
       "2  https://www.goodreads.com/book/show/1885.Pride...\n",
       "3  https://www.goodreads.com/book/show/48855.The_...\n",
       "4  https://www.goodreads.com/book/show/170448.Ani..."
      ]
     },
     "execution_count": 3,
     "metadata": {},
     "output_type": "execute_result"
    }
   ],
   "source": [
    "books_urls = pd.read_csv('../data/books_urls1.csv')\n",
    "books_urls.head()"
   ]
  },
  {
   "cell_type": "markdown",
   "metadata": {},
   "source": [
    "Turning the info of the data frame into a list so that it can be iterable for the function"
   ]
  },
  {
   "cell_type": "code",
   "execution_count": 4,
   "metadata": {},
   "outputs": [
    {
     "data": {
      "text/plain": [
       "['https://www.goodreads.com/book/show/2657.To_Kill_a_Mockingbird',\n",
       " 'https://www.goodreads.com/book/show/72193.Harry_Potter_and_the_Philosopher_s_Stone',\n",
       " 'https://www.goodreads.com/book/show/1885.Pride_and_Prejudice',\n",
       " 'https://www.goodreads.com/book/show/48855.The_Diary_of_a_Young_Girl',\n",
       " 'https://www.goodreads.com/book/show/170448.Animal_Farm']"
      ]
     },
     "execution_count": 4,
     "metadata": {},
     "output_type": "execute_result"
    }
   ],
   "source": [
    "books_urls_list = [url for url in books_urls[\"0\"]]\n",
    "books_urls_list[:5]"
   ]
  },
  {
   "cell_type": "markdown",
   "metadata": {},
   "source": [
    "Calling the function to get all the books' information"
   ]
  },
  {
   "cell_type": "code",
   "execution_count": 5,
   "metadata": {},
   "outputs": [
    {
     "name": "stderr",
     "output_type": "stream",
     "text": [
      "  0%|          | 0/10000 [00:00<?, ?it/s]"
     ]
    },
    {
     "name": "stderr",
     "output_type": "stream",
     "text": [
      " 99%|█████████▉| 9880/10000 [7:04:41<05:09,  2.58s/it]   \n"
     ]
    },
    {
     "data": {
      "text/plain": [
       "[{'Cover': 'https://images-na.ssl-images-amazon.com/images/S/compressed.photo.goodreads.com/books/1553383690i/2657.jpg',\n",
       "  'Title': 'To Kill a Mockingbird',\n",
       "  'Author': 'Harper Lee',\n",
       "  'Genre': 'Classics, Fiction, Historical , Fiction, School',\n",
       "  'Rating': '4.26',\n",
       "  'Rating Count': '5,889,033\\xa0ratings114,192\\xa0reviews',\n",
       "  'Year': 'First published July 11, 1960',\n",
       "  'Pages': '323 pages, Paperback'},\n",
       " {'Cover': 'https://images-na.ssl-images-amazon.com/images/S/compressed.photo.goodreads.com/books/1170803558l/72193.jpg',\n",
       "  'Title': 'Harry Potter and the Philosopher’s Stone',\n",
       "  'Author': 'J.K. Rowling',\n",
       "  'Genre': 'Fiction, Young , Adult, Magic, Childrens',\n",
       "  'Rating': '4.47',\n",
       "  'Rating Count': '9,637,191\\xa0ratings155,419\\xa0reviews',\n",
       "  'Year': 'First published June 26, 1997',\n",
       "  'Pages': '223 pages, Paperback'},\n",
       " {'Cover': 'https://images-na.ssl-images-amazon.com/images/S/compressed.photo.goodreads.com/books/1320399351i/1885.jpg',\n",
       "  'Title': 'Pride and Prejudice',\n",
       "  'Author': 'Jane Austen',\n",
       "  'Genre': 'Classics, Fiction, Romance, Historical , Fiction',\n",
       "  'Rating': '4.28',\n",
       "  'Rating Count': '4,104,158\\xa0ratings108,318\\xa0reviews',\n",
       "  'Year': 'First published January 28, 1813',\n",
       "  'Pages': '279 pages, Paperback'}]"
      ]
     },
     "execution_count": 5,
     "metadata": {},
     "output_type": "execute_result"
    }
   ],
   "source": [
    "book_info_generator = tqdm(get_info(books_urls_list), total = len(books_urls_list))\n",
    "book_info = list(book_info_generator)\n",
    "book_info[:3]"
   ]
  },
  {
   "cell_type": "markdown",
   "metadata": {},
   "source": [
    "Turning the list of dictionaries into a data frame"
   ]
  },
  {
   "cell_type": "code",
   "execution_count": 6,
   "metadata": {},
   "outputs": [
    {
     "data": {
      "text/html": [
       "<div>\n",
       "<style scoped>\n",
       "    .dataframe tbody tr th:only-of-type {\n",
       "        vertical-align: middle;\n",
       "    }\n",
       "\n",
       "    .dataframe tbody tr th {\n",
       "        vertical-align: top;\n",
       "    }\n",
       "\n",
       "    .dataframe thead th {\n",
       "        text-align: right;\n",
       "    }\n",
       "</style>\n",
       "<table border=\"1\" class=\"dataframe\">\n",
       "  <thead>\n",
       "    <tr style=\"text-align: right;\">\n",
       "      <th></th>\n",
       "      <th>Cover</th>\n",
       "      <th>Title</th>\n",
       "      <th>Author</th>\n",
       "      <th>Genre</th>\n",
       "      <th>Rating</th>\n",
       "      <th>Rating Count</th>\n",
       "      <th>Year</th>\n",
       "      <th>Pages</th>\n",
       "    </tr>\n",
       "  </thead>\n",
       "  <tbody>\n",
       "    <tr>\n",
       "      <th>0</th>\n",
       "      <td>https://images-na.ssl-images-amazon.com/images...</td>\n",
       "      <td>To Kill a Mockingbird</td>\n",
       "      <td>Harper Lee</td>\n",
       "      <td>Classics, Fiction, Historical , Fiction, School</td>\n",
       "      <td>4.26</td>\n",
       "      <td>5,889,033 ratings114,192 reviews</td>\n",
       "      <td>First published July 11, 1960</td>\n",
       "      <td>323 pages, Paperback</td>\n",
       "    </tr>\n",
       "    <tr>\n",
       "      <th>1</th>\n",
       "      <td>https://images-na.ssl-images-amazon.com/images...</td>\n",
       "      <td>Harry Potter and the Philosopher’s Stone</td>\n",
       "      <td>J.K. Rowling</td>\n",
       "      <td>Fiction, Young , Adult, Magic, Childrens</td>\n",
       "      <td>4.47</td>\n",
       "      <td>9,637,191 ratings155,419 reviews</td>\n",
       "      <td>First published June 26, 1997</td>\n",
       "      <td>223 pages, Paperback</td>\n",
       "    </tr>\n",
       "    <tr>\n",
       "      <th>2</th>\n",
       "      <td>https://images-na.ssl-images-amazon.com/images...</td>\n",
       "      <td>Pride and Prejudice</td>\n",
       "      <td>Jane Austen</td>\n",
       "      <td>Classics, Fiction, Romance, Historical , Fiction</td>\n",
       "      <td>4.28</td>\n",
       "      <td>4,104,158 ratings108,318 reviews</td>\n",
       "      <td>First published January 28, 1813</td>\n",
       "      <td>279 pages, Paperback</td>\n",
       "    </tr>\n",
       "    <tr>\n",
       "      <th>3</th>\n",
       "      <td>https://images-na.ssl-images-amazon.com/images...</td>\n",
       "      <td>The Diary of a Young Girl</td>\n",
       "      <td>Anne Frank</td>\n",
       "      <td>Classics, Nonfiction, Biography, Memoir, Histo...</td>\n",
       "      <td>4.19</td>\n",
       "      <td>3,602,741 ratings40,034 reviews</td>\n",
       "      <td>First published January 1, 1947</td>\n",
       "      <td>283 pages, Mass Market Paperback</td>\n",
       "    </tr>\n",
       "    <tr>\n",
       "      <th>4</th>\n",
       "      <td>https://images-na.ssl-images-amazon.com/images...</td>\n",
       "      <td>Animal Farm</td>\n",
       "      <td>George Orwell</td>\n",
       "      <td>Classics, Fiction, Dystopia, Fantasy, School</td>\n",
       "      <td>3.98</td>\n",
       "      <td>3,727,391 ratings90,737 reviews</td>\n",
       "      <td>First published August 17, 1945</td>\n",
       "      <td>128 pages, Mass Market Paperback</td>\n",
       "    </tr>\n",
       "  </tbody>\n",
       "</table>\n",
       "</div>"
      ],
      "text/plain": [
       "                                               Cover  \\\n",
       "0  https://images-na.ssl-images-amazon.com/images...   \n",
       "1  https://images-na.ssl-images-amazon.com/images...   \n",
       "2  https://images-na.ssl-images-amazon.com/images...   \n",
       "3  https://images-na.ssl-images-amazon.com/images...   \n",
       "4  https://images-na.ssl-images-amazon.com/images...   \n",
       "\n",
       "                                      Title         Author  \\\n",
       "0                     To Kill a Mockingbird     Harper Lee   \n",
       "1  Harry Potter and the Philosopher’s Stone   J.K. Rowling   \n",
       "2                       Pride and Prejudice    Jane Austen   \n",
       "3                 The Diary of a Young Girl     Anne Frank   \n",
       "4                               Animal Farm  George Orwell   \n",
       "\n",
       "                                               Genre Rating  \\\n",
       "0    Classics, Fiction, Historical , Fiction, School   4.26   \n",
       "1           Fiction, Young , Adult, Magic, Childrens   4.47   \n",
       "2   Classics, Fiction, Romance, Historical , Fiction   4.28   \n",
       "3  Classics, Nonfiction, Biography, Memoir, Histo...   4.19   \n",
       "4       Classics, Fiction, Dystopia, Fantasy, School   3.98   \n",
       "\n",
       "                       Rating Count                              Year  \\\n",
       "0  5,889,033 ratings114,192 reviews     First published July 11, 1960   \n",
       "1  9,637,191 ratings155,419 reviews     First published June 26, 1997   \n",
       "2  4,104,158 ratings108,318 reviews  First published January 28, 1813   \n",
       "3   3,602,741 ratings40,034 reviews   First published January 1, 1947   \n",
       "4   3,727,391 ratings90,737 reviews   First published August 17, 1945   \n",
       "\n",
       "                              Pages  \n",
       "0              323 pages, Paperback  \n",
       "1              223 pages, Paperback  \n",
       "2              279 pages, Paperback  \n",
       "3  283 pages, Mass Market Paperback  \n",
       "4  128 pages, Mass Market Paperback  "
      ]
     },
     "execution_count": 6,
     "metadata": {},
     "output_type": "execute_result"
    }
   ],
   "source": [
    "books_information = pd.DataFrame(book_info)\n",
    "books_information.head()"
   ]
  },
  {
   "cell_type": "code",
   "execution_count": 7,
   "metadata": {},
   "outputs": [],
   "source": [
    "books_information.to_csv('../data/books_information1.csv', index = False)"
   ]
  },
  {
   "cell_type": "code",
   "execution_count": null,
   "metadata": {},
   "outputs": [],
   "source": []
  }
 ],
 "metadata": {
  "kernelspec": {
   "display_name": "base",
   "language": "python",
   "name": "python3"
  },
  "language_info": {
   "codemirror_mode": {
    "name": "ipython",
    "version": 3
   },
   "file_extension": ".py",
   "mimetype": "text/x-python",
   "name": "python",
   "nbconvert_exporter": "python",
   "pygments_lexer": "ipython3",
   "version": "3.11.4"
  }
 },
 "nbformat": 4,
 "nbformat_minor": 2
}
