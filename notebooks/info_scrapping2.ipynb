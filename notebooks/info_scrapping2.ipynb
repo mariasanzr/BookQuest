{
 "cells": [
  {
   "cell_type": "markdown",
   "metadata": {},
   "source": [
    "# Scrapping all the books' information"
   ]
  },
  {
   "cell_type": "markdown",
   "metadata": {},
   "source": [
    "Import of libraries"
   ]
  },
  {
   "cell_type": "code",
   "execution_count": 1,
   "metadata": {},
   "outputs": [],
   "source": [
    "import pandas as pd\n",
    "import sys\n",
    "from tqdm import tqdm"
   ]
  },
  {
   "cell_type": "markdown",
   "metadata": {},
   "source": [
    "Importing .py doc to access the needed function"
   ]
  },
  {
   "cell_type": "code",
   "execution_count": 2,
   "metadata": {},
   "outputs": [],
   "source": [
    "# Printing all directories for interpreter to search \n",
    "\n",
    "sys.path.append('../')\n",
    "\n",
    "# Importing module\n",
    "\n",
    "from src.support import *"
   ]
  },
  {
   "cell_type": "markdown",
   "metadata": {},
   "source": [
    "Importing the CSV with the books' links"
   ]
  },
  {
   "cell_type": "code",
   "execution_count": 3,
   "metadata": {},
   "outputs": [
    {
     "data": {
      "text/html": [
       "<div>\n",
       "<style scoped>\n",
       "    .dataframe tbody tr th:only-of-type {\n",
       "        vertical-align: middle;\n",
       "    }\n",
       "\n",
       "    .dataframe tbody tr th {\n",
       "        vertical-align: top;\n",
       "    }\n",
       "\n",
       "    .dataframe thead th {\n",
       "        text-align: right;\n",
       "    }\n",
       "</style>\n",
       "<table border=\"1\" class=\"dataframe\">\n",
       "  <thead>\n",
       "    <tr style=\"text-align: right;\">\n",
       "      <th></th>\n",
       "      <th>0</th>\n",
       "    </tr>\n",
       "  </thead>\n",
       "  <tbody>\n",
       "    <tr>\n",
       "      <th>0</th>\n",
       "      <td>https://www.goodreads.com/book/show/289601.A_C...</td>\n",
       "    </tr>\n",
       "    <tr>\n",
       "      <th>1</th>\n",
       "      <td>https://www.goodreads.com/book/show/640029.Nob...</td>\n",
       "    </tr>\n",
       "    <tr>\n",
       "      <th>2</th>\n",
       "      <td>https://www.goodreads.com/book/show/58913358-a...</td>\n",
       "    </tr>\n",
       "    <tr>\n",
       "      <th>3</th>\n",
       "      <td>https://www.goodreads.com/book/show/6357708-si...</td>\n",
       "    </tr>\n",
       "    <tr>\n",
       "      <th>4</th>\n",
       "      <td>https://www.goodreads.com/book/show/139418.The...</td>\n",
       "    </tr>\n",
       "  </tbody>\n",
       "</table>\n",
       "</div>"
      ],
      "text/plain": [
       "                                                   0\n",
       "0  https://www.goodreads.com/book/show/289601.A_C...\n",
       "1  https://www.goodreads.com/book/show/640029.Nob...\n",
       "2  https://www.goodreads.com/book/show/58913358-a...\n",
       "3  https://www.goodreads.com/book/show/6357708-si...\n",
       "4  https://www.goodreads.com/book/show/139418.The..."
      ]
     },
     "execution_count": 3,
     "metadata": {},
     "output_type": "execute_result"
    }
   ],
   "source": [
    "books_urls = pd.read_csv('../data/books_urls2.csv')\n",
    "books_urls.head()"
   ]
  },
  {
   "cell_type": "markdown",
   "metadata": {},
   "source": [
    "Turning the info of the data frame into a list so that it can be iterable for the function"
   ]
  },
  {
   "cell_type": "code",
   "execution_count": 4,
   "metadata": {},
   "outputs": [
    {
     "data": {
      "text/plain": [
       "['https://www.goodreads.com/book/show/289601.A_Certain_Slant_of_Light',\n",
       " 'https://www.goodreads.com/book/show/640029.Nobody_s_Princess',\n",
       " 'https://www.goodreads.com/book/show/58913358-a-story-of-yesterday',\n",
       " 'https://www.goodreads.com/book/show/6357708-sisters-red',\n",
       " 'https://www.goodreads.com/book/show/139418.The_Silver_Kiss']"
      ]
     },
     "execution_count": 4,
     "metadata": {},
     "output_type": "execute_result"
    }
   ],
   "source": [
    "books_urls_list = [url for url in books_urls[\"0\"]]\n",
    "books_urls_list[:5]"
   ]
  },
  {
   "cell_type": "markdown",
   "metadata": {},
   "source": [
    "Calling the function to get all the books' information"
   ]
  },
  {
   "cell_type": "code",
   "execution_count": 5,
   "metadata": {},
   "outputs": [
    {
     "name": "stderr",
     "output_type": "stream",
     "text": [
      "  0%|          | 0/9800 [00:00<?, ?it/s]"
     ]
    },
    {
     "name": "stderr",
     "output_type": "stream",
     "text": [
      " 96%|█████████▌| 9378/9800 [6:54:55<18:40,  2.65s/it]   \n"
     ]
    },
    {
     "data": {
      "text/plain": [
       "[{'Cover': 'https://images-na.ssl-images-amazon.com/images/S/compressed.photo.goodreads.com/books/1441806268i/289601.jpg',\n",
       "  'Title': 'A Certain Slant of Light',\n",
       "  'Author': 'Laura Whitcomb',\n",
       "  'Genre': 'Young , Adult, Fantasy, Paranormal, Romance',\n",
       "  'Rating': '3.84',\n",
       "  'Rating Count': '19,520\\xa0ratings1,986\\xa0reviews',\n",
       "  'Year': 'First published September 21, 2005',\n",
       "  'Pages': '282 pages, Paperback'},\n",
       " {'Cover': 'https://images-na.ssl-images-amazon.com/images/S/compressed.photo.goodreads.com/books/1320503118i/640029.jpg',\n",
       "  'Title': \"Nobody's Princess\",\n",
       "  'Author': 'Esther M. Friesner',\n",
       "  'Genre': 'Historical , Fiction, Young , Adult, Fantasy',\n",
       "  'Rating': '3.69',\n",
       "  'Rating Count': '13,268\\xa0ratings1,080\\xa0reviews',\n",
       "  'Year': 'First published April 24, 2007',\n",
       "  'Pages': '296 pages, Hardcover'},\n",
       " {'Cover': 'https://images-na.ssl-images-amazon.com/images/S/compressed.photo.goodreads.com/books/1630609122i/58913358.jpg',\n",
       "  'Title': 'A Story of Yesterday',\n",
       "  'Author': 'Sergio Cobo',\n",
       "  'Genre': 'Thriller, Spanish , Literature, European , Literature',\n",
       "  'Rating': '4.59',\n",
       "  'Rating Count': '12,118\\xa0ratings281\\xa0reviews',\n",
       "  'Year': 'First published March 6, 2014',\n",
       "  'Pages': '70 pages, Kindle Edition'}]"
      ]
     },
     "execution_count": 5,
     "metadata": {},
     "output_type": "execute_result"
    }
   ],
   "source": [
    "book_info_generator = tqdm(get_info(books_urls_list), total = len(books_urls_list))\n",
    "book_info = list(book_info_generator)\n",
    "book_info[:3]"
   ]
  },
  {
   "cell_type": "markdown",
   "metadata": {},
   "source": [
    "Turning the list of dictionaries into a data frame"
   ]
  },
  {
   "cell_type": "code",
   "execution_count": 6,
   "metadata": {},
   "outputs": [
    {
     "data": {
      "text/html": [
       "<div>\n",
       "<style scoped>\n",
       "    .dataframe tbody tr th:only-of-type {\n",
       "        vertical-align: middle;\n",
       "    }\n",
       "\n",
       "    .dataframe tbody tr th {\n",
       "        vertical-align: top;\n",
       "    }\n",
       "\n",
       "    .dataframe thead th {\n",
       "        text-align: right;\n",
       "    }\n",
       "</style>\n",
       "<table border=\"1\" class=\"dataframe\">\n",
       "  <thead>\n",
       "    <tr style=\"text-align: right;\">\n",
       "      <th></th>\n",
       "      <th>Cover</th>\n",
       "      <th>Title</th>\n",
       "      <th>Author</th>\n",
       "      <th>Genre</th>\n",
       "      <th>Rating</th>\n",
       "      <th>Rating Count</th>\n",
       "      <th>Year</th>\n",
       "      <th>Pages</th>\n",
       "    </tr>\n",
       "  </thead>\n",
       "  <tbody>\n",
       "    <tr>\n",
       "      <th>0</th>\n",
       "      <td>https://images-na.ssl-images-amazon.com/images...</td>\n",
       "      <td>A Certain Slant of Light</td>\n",
       "      <td>Laura Whitcomb</td>\n",
       "      <td>Young , Adult, Fantasy, Paranormal, Romance</td>\n",
       "      <td>3.84</td>\n",
       "      <td>19,520 ratings1,986 reviews</td>\n",
       "      <td>First published September 21, 2005</td>\n",
       "      <td>282 pages, Paperback</td>\n",
       "    </tr>\n",
       "    <tr>\n",
       "      <th>1</th>\n",
       "      <td>https://images-na.ssl-images-amazon.com/images...</td>\n",
       "      <td>Nobody's Princess</td>\n",
       "      <td>Esther M. Friesner</td>\n",
       "      <td>Historical , Fiction, Young , Adult, Fantasy</td>\n",
       "      <td>3.69</td>\n",
       "      <td>13,268 ratings1,080 reviews</td>\n",
       "      <td>First published April 24, 2007</td>\n",
       "      <td>296 pages, Hardcover</td>\n",
       "    </tr>\n",
       "    <tr>\n",
       "      <th>2</th>\n",
       "      <td>https://images-na.ssl-images-amazon.com/images...</td>\n",
       "      <td>A Story of Yesterday</td>\n",
       "      <td>Sergio Cobo</td>\n",
       "      <td>Thriller, Spanish , Literature, European , Lit...</td>\n",
       "      <td>4.59</td>\n",
       "      <td>12,118 ratings281 reviews</td>\n",
       "      <td>First published March 6, 2014</td>\n",
       "      <td>70 pages, Kindle Edition</td>\n",
       "    </tr>\n",
       "    <tr>\n",
       "      <th>3</th>\n",
       "      <td>https://images-na.ssl-images-amazon.com/images...</td>\n",
       "      <td>Sisters Red</td>\n",
       "      <td>Jackson Pearce</td>\n",
       "      <td>Fantasy, Young , Adult, Retellings, Fairy</td>\n",
       "      <td>3.63</td>\n",
       "      <td>19,715 ratings2,594 reviews</td>\n",
       "      <td>First published June 7, 2010</td>\n",
       "      <td>328 pages, Hardcover</td>\n",
       "    </tr>\n",
       "    <tr>\n",
       "      <th>4</th>\n",
       "      <td>https://images-na.ssl-images-amazon.com/images...</td>\n",
       "      <td>The Silver Kiss</td>\n",
       "      <td>Annette Curtis Klause</td>\n",
       "      <td>Young , Adult, Vampires, Fantasy, Romance</td>\n",
       "      <td>3.70</td>\n",
       "      <td>18,180 ratings1,250 reviews</td>\n",
       "      <td>First published September 1, 1990</td>\n",
       "      <td>198 pages, Mass Market Paperback</td>\n",
       "    </tr>\n",
       "  </tbody>\n",
       "</table>\n",
       "</div>"
      ],
      "text/plain": [
       "                                               Cover  \\\n",
       "0  https://images-na.ssl-images-amazon.com/images...   \n",
       "1  https://images-na.ssl-images-amazon.com/images...   \n",
       "2  https://images-na.ssl-images-amazon.com/images...   \n",
       "3  https://images-na.ssl-images-amazon.com/images...   \n",
       "4  https://images-na.ssl-images-amazon.com/images...   \n",
       "\n",
       "                      Title                 Author  \\\n",
       "0  A Certain Slant of Light         Laura Whitcomb   \n",
       "1         Nobody's Princess     Esther M. Friesner   \n",
       "2      A Story of Yesterday            Sergio Cobo   \n",
       "3               Sisters Red         Jackson Pearce   \n",
       "4           The Silver Kiss  Annette Curtis Klause   \n",
       "\n",
       "                                               Genre Rating  \\\n",
       "0        Young , Adult, Fantasy, Paranormal, Romance   3.84   \n",
       "1       Historical , Fiction, Young , Adult, Fantasy   3.69   \n",
       "2  Thriller, Spanish , Literature, European , Lit...   4.59   \n",
       "3         Fantasy, Young , Adult, Retellings, Fairy    3.63   \n",
       "4          Young , Adult, Vampires, Fantasy, Romance   3.70   \n",
       "\n",
       "                  Rating Count                                Year  \\\n",
       "0  19,520 ratings1,986 reviews  First published September 21, 2005   \n",
       "1  13,268 ratings1,080 reviews      First published April 24, 2007   \n",
       "2    12,118 ratings281 reviews       First published March 6, 2014   \n",
       "3  19,715 ratings2,594 reviews        First published June 7, 2010   \n",
       "4  18,180 ratings1,250 reviews   First published September 1, 1990   \n",
       "\n",
       "                              Pages  \n",
       "0              282 pages, Paperback  \n",
       "1              296 pages, Hardcover  \n",
       "2          70 pages, Kindle Edition  \n",
       "3              328 pages, Hardcover  \n",
       "4  198 pages, Mass Market Paperback  "
      ]
     },
     "execution_count": 6,
     "metadata": {},
     "output_type": "execute_result"
    }
   ],
   "source": [
    "books_information = pd.DataFrame(book_info)\n",
    "books_information.head()"
   ]
  },
  {
   "cell_type": "code",
   "execution_count": 7,
   "metadata": {},
   "outputs": [],
   "source": [
    "books_information.to_csv('../data/books_information2.csv', index = False)"
   ]
  },
  {
   "cell_type": "code",
   "execution_count": null,
   "metadata": {},
   "outputs": [],
   "source": []
  }
 ],
 "metadata": {
  "kernelspec": {
   "display_name": "base",
   "language": "python",
   "name": "python3"
  },
  "language_info": {
   "codemirror_mode": {
    "name": "ipython",
    "version": 3
   },
   "file_extension": ".py",
   "mimetype": "text/x-python",
   "name": "python",
   "nbconvert_exporter": "python",
   "pygments_lexer": "ipython3",
   "version": "3.11.4"
  }
 },
 "nbformat": 4,
 "nbformat_minor": 2
}
